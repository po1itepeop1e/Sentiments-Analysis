{
  "cells": [
    {
      "cell_type": "markdown",
      "metadata": {
        "id": "view-in-github",
        "colab_type": "text"
      },
      "source": [
        "<a href=\"https://colab.research.google.com/github/po1itepeop1e/Sentiments-Analysis/blob/main/store_sales_forecasting.ipynb\" target=\"_parent\"><img src=\"https://colab.research.google.com/assets/colab-badge.svg\" alt=\"Open In Colab\"/></a>"
      ]
    },
    {
      "cell_type": "markdown",
      "source": [
        "# **Final Project - Store Sales Forecasting**"
      ],
      "metadata": {
        "id": "HIwzPMasej4d"
      }
    },
    {
      "cell_type": "markdown",
      "source": [
        "***1. Brief description of the problem and data***"
      ],
      "metadata": {
        "id": "twMKMBTlepxj"
      }
    },
    {
      "cell_type": "markdown",
      "source": [
        "*The project is to predict the sales for a large number of product families sold at Favorita stores in Ecuador. The training data includes dates, store and product information, information on whether the product was being promoted, as well as the sales numbers. There are additional files that provide supplementary information which may be useful in building models.*\n",
        "*The dataset contains 54 stores and 33 product families. The time series begins on January 1, 2013 and ends on August 31, 2017. The provided data is split into two sets: training and testing. The dates in the test data are 15 days after the last date in the training data, and this information will be crucial for defining a cross-validation strategy and creating new features.*\n",
        "\n",
        "*The dataset contains 54 stores and 33 product families. The time series begins on January 1, 2013 and ends on August 31, 2017. The provided data is split into two sets: training and testing. The dates in the test data are 15 days after the last date in the training data, and this information will be crucial for defining a cross-validation strategy and creating new features.*\n",
        "\n"
      ],
      "metadata": {
        "id": "wPa3cvzN064g"
      }
    },
    {
      "source": [
        "\n",
        "# IMPORTANT: RUN THIS CELL IN ORDER TO IMPORT YOUR KAGGLE DATA SOURCES\n",
        "# TO THE CORRECT LOCATION (/kaggle/input) IN YOUR NOTEBOOK,\n",
        "# THEN FEEL FREE TO DELETE THIS CELL.\n",
        "# NOTE: THIS NOTEBOOK ENVIRONMENT DIFFERS FROM KAGGLE'S PYTHON\n",
        "# ENVIRONMENT SO THERE MAY BE MISSING LIBRARIES USED BY YOUR\n",
        "# NOTEBOOK.\n",
        "\n",
        "import os\n",
        "import sys\n",
        "from tempfile import NamedTemporaryFile\n",
        "from urllib.request import urlopen\n",
        "from urllib.parse import unquote, urlparse\n",
        "from urllib.error import HTTPError\n",
        "from zipfile import ZipFile\n",
        "import tarfile\n",
        "import shutil\n",
        "\n",
        "CHUNK_SIZE = 40960\n",
        "DATA_SOURCE_MAPPING = 'store-sales-time-series-forecasting:https%3A%2F%2Fstorage.googleapis.com%2Fkaggle-competitions-data%2Fkaggle-v2%2F29781%2F2887556%2Fbundle%2Farchive.zip%3FX-Goog-Algorithm%3DGOOG4-RSA-SHA256%26X-Goog-Credential%3Dgcp-kaggle-com%2540kaggle-161607.iam.gserviceaccount.com%252F20240202%252Fauto%252Fstorage%252Fgoog4_request%26X-Goog-Date%3D20240202T153936Z%26X-Goog-Expires%3D259200%26X-Goog-SignedHeaders%3Dhost%26X-Goog-Signature%3D8b2f03360441235c5afe144f777be458d6b2af92c934cb261e7b8f10b41161c920b5d839b3e36fab1d87e0f7a21a8cacfb23a01f3408922c8a6dddafd4c2d2a51e7ba0d7bef3e38527b46443260e39621daeb0c82c0638a68572f3cb0ad29f027b2650bd87f422bc714bd1367c145e7e9414eb44852a0a2e77c0b0b6e63963008cdd9b56e488ae4589e5d3b57776e5546bdacda945e664641bd7c82a567aac5ff406ba8d68456da9f21e89d45089b0ad7c209dd35aca1d45fdfd29e72a9a092b327da128747054e8bbb257d5c184fce7a70d214d525cbe4136130b2f7de0b0e58c781f68ed9753dfdf2462e2cc2155eb56110c2a178eeb08e33b9487a6bc770b'\n",
        "\n",
        "KAGGLE_INPUT_PATH='/kaggle/input'\n",
        "KAGGLE_WORKING_PATH='/kaggle/working'\n",
        "KAGGLE_SYMLINK='kaggle'\n",
        "\n",
        "!umount /kaggle/input/ 2> /dev/null\n",
        "shutil.rmtree('/kaggle/input', ignore_errors=True)\n",
        "os.makedirs(KAGGLE_INPUT_PATH, 0o777, exist_ok=True)\n",
        "os.makedirs(KAGGLE_WORKING_PATH, 0o777, exist_ok=True)\n",
        "\n",
        "try:\n",
        "  os.symlink(KAGGLE_INPUT_PATH, os.path.join(\"..\", 'input'), target_is_directory=True)\n",
        "except FileExistsError:\n",
        "  pass\n",
        "try:\n",
        "  os.symlink(KAGGLE_WORKING_PATH, os.path.join(\"..\", 'working'), target_is_directory=True)\n",
        "except FileExistsError:\n",
        "  pass\n",
        "\n",
        "for data_source_mapping in DATA_SOURCE_MAPPING.split(','):\n",
        "    directory, download_url_encoded = data_source_mapping.split(':')\n",
        "    download_url = unquote(download_url_encoded)\n",
        "    filename = urlparse(download_url).path\n",
        "    destination_path = os.path.join(KAGGLE_INPUT_PATH, directory)\n",
        "    try:\n",
        "        with urlopen(download_url) as fileres, NamedTemporaryFile() as tfile:\n",
        "            total_length = fileres.headers['content-length']\n",
        "            print(f'Downloading {directory}, {total_length} bytes compressed')\n",
        "            dl = 0\n",
        "            data = fileres.read(CHUNK_SIZE)\n",
        "            while len(data) > 0:\n",
        "                dl += len(data)\n",
        "                tfile.write(data)\n",
        "                done = int(50 * dl / int(total_length))\n",
        "                sys.stdout.write(f\"\\r[{'=' * done}{' ' * (50-done)}] {dl} bytes downloaded\")\n",
        "                sys.stdout.flush()\n",
        "                data = fileres.read(CHUNK_SIZE)\n",
        "            if filename.endswith('.zip'):\n",
        "              with ZipFile(tfile) as zfile:\n",
        "                zfile.extractall(destination_path)\n",
        "            else:\n",
        "              with tarfile.open(tfile.name) as tarfile:\n",
        "                tarfile.extractall(destination_path)\n",
        "            print(f'\\nDownloaded and uncompressed: {directory}')\n",
        "    except HTTPError as e:\n",
        "        print(f'Failed to load (likely expired) {download_url} to path {destination_path}')\n",
        "        continue\n",
        "    except OSError as e:\n",
        "        print(f'Failed to load {download_url} to path {destination_path}')\n",
        "        continue\n",
        "\n",
        "print('Data source import complete.')\n"
      ],
      "metadata": {
        "id": "aDa2Cl-2ectY",
        "colab": {
          "base_uri": "https://localhost:8080/"
        },
        "outputId": "b5fb4c70-4fb5-472f-9335-f94c9916a128"
      },
      "cell_type": "code",
      "outputs": [
        {
          "output_type": "stream",
          "name": "stdout",
          "text": [
            "Downloading store-sales-time-series-forecasting, 22416355 bytes compressed\n",
            "[==================================================] 22416355 bytes downloaded\n",
            "Downloaded and uncompressed: store-sales-time-series-forecasting\n",
            "Data source import complete.\n"
          ]
        }
      ],
      "execution_count": 5
    },
    {
      "metadata": {
        "_uuid": "8f2839f25d086af736a60e9eeb907d3b93b6e0e5",
        "_cell_guid": "b1076dfc-b9ad-4769-8c92-a6c4dae69d19",
        "trusted": true,
        "id": "2YBUq1-jectb",
        "colab": {
          "base_uri": "https://localhost:8080/"
        },
        "outputId": "23d46902-df03-4a92-b7cd-f8d302894d6b"
      },
      "cell_type": "code",
      "source": [
        "# This Python 3 environment comes with many helpful analytics libraries installed\n",
        "# It is defined by the kaggle/python Docker image: https://github.com/kaggle/docker-python\n",
        "# For example, here's several helpful packages to load\n",
        "\n",
        "import numpy as np # linear algebra\n",
        "import pandas as pd # data processing, CSV file I/O (e.g. pd.read_csv)\n",
        "\n",
        "# Input data files are available in the read-only \"../input/\" directory\n",
        "# For example, running this (by clicking run or pressing Shift+Enter) will list all files under the input directory\n",
        "\n",
        "import os\n",
        "for dirname, _, filenames in os.walk('/kaggle/input'):\n",
        "    for filename in filenames:\n",
        "        print(os.path.join(dirname, filename))\n",
        "\n",
        "# You can write up to 20GB to the current directory (/kaggle/working/) that gets preserved as output when you create a version using \"Save & Run All\"\n",
        "# You can also write temporary files to /kaggle/temp/, but they won't be saved outside of the current session"
      ],
      "execution_count": null,
      "outputs": [
        {
          "output_type": "stream",
          "name": "stdout",
          "text": [
            "/kaggle/input/store-sales-time-series-forecasting/train.csv\n",
            "/kaggle/input/store-sales-time-series-forecasting/holidays_events.csv\n",
            "/kaggle/input/store-sales-time-series-forecasting/transactions.csv\n",
            "/kaggle/input/store-sales-time-series-forecasting/sample_submission.csv\n",
            "/kaggle/input/store-sales-time-series-forecasting/stores.csv\n",
            "/kaggle/input/store-sales-time-series-forecasting/test.csv\n",
            "/kaggle/input/store-sales-time-series-forecasting/oil.csv\n"
          ]
        }
      ]
    },
    {
      "cell_type": "markdown",
      "source": [
        "***2. Identify a Deep Learning Problem***"
      ],
      "metadata": {
        "id": "Vh-UZFUOeurr"
      }
    },
    {
      "cell_type": "markdown",
      "source": [
        "  *The training data (train.csv) consists of time series data with features such as store_nbr, family, and onpromotion, along with the target variable sales. The store_nbr identifies the store at which the products are sold, while family identifies the type of product sold. The onpromotion feature indicates the total number of items in a product family that were being promoted at a store on a specific date. The sales column gives the total sales for a product family at a particular store on a specific date, and fractional values are possible due to the sale of products in fractional units.*\n",
        "\n",
        "  *The test data (test.csv) has the same features as the training data, and predictions for the target sales need to be made for the dates in this file. The dates in the test data are for the 15 days after the last date in the training data. There is also a file containing store metadata (stores.csv) which includes information such as city, state, type, and cluster. The cluster represents a grouping of similar stores. Additionally, there are files providing information on daily oil prices (oil.csv) and holidays and events (holidays_events.csv), including metadata indicating additional holidays added to a regular calendar holiday.*\n",
        "\n",
        "  *The model's architecture is a sequential neural network that incorporates LSTM and dense layers. It is tailored to effectively identify intricate patterns in sequential data and mitigate overfitting through the use of dropout layers. This architecture is particularly suitable for processing sequential data, such as time series and sequential prediction tasks.*"
      ],
      "metadata": {
        "id": "S1z4qiMX1Apk"
      }
    },
    {
      "cell_type": "code",
      "source": [
        "import warnings\n",
        "warnings.filterwarnings('ignore')"
      ],
      "metadata": {
        "id": "JiRmEm7Le7Pq"
      },
      "execution_count": 1,
      "outputs": []
    },
    {
      "cell_type": "code",
      "source": [
        "import numpy as np\n",
        "import pandas as pd\n",
        "import os\n",
        "import matplotlib.pyplot as plt\n",
        "import pandas_datareader as web\n",
        "import datetime as dt\n",
        "from sklearn.preprocessing import MinMaxScaler\n",
        "from tensorflow.keras.models import Sequential\n",
        "from tensorflow.keras.layers import Dense, Dropout, LSTM\n",
        "from tensorflow.keras.callbacks import ModelCheckpoint, EarlyStopping"
      ],
      "metadata": {
        "id": "HhSGk-3ve7x6"
      },
      "execution_count": 2,
      "outputs": []
    },
    {
      "cell_type": "markdown",
      "source": [
        "*GPU*"
      ],
      "metadata": {
        "id": "hCkPmUExfufy"
      }
    },
    {
      "cell_type": "code",
      "source": [
        "from tensorflow.compat.v1 import ConfigProto\n",
        "from tensorflow.compat.v1 import InteractiveSession\n",
        "config = ConfigProto()\n",
        "config.gpu_options.allow_growth = True\n",
        "session = InteractiveSession(config=config)\n",
        "import tensorflow as tf\n",
        "tf.config.list_physical_devices('GPU')"
      ],
      "metadata": {
        "colab": {
          "base_uri": "https://localhost:8080/"
        },
        "id": "vItEFcfofq7r",
        "outputId": "f8b8ba42-9d9b-4a00-e890-b4f7b3879002"
      },
      "execution_count": 3,
      "outputs": [
        {
          "output_type": "execute_result",
          "data": {
            "text/plain": [
              "[PhysicalDevice(name='/physical_device:GPU:0', device_type='GPU')]"
            ]
          },
          "metadata": {},
          "execution_count": 3
        }
      ]
    },
    {
      "cell_type": "markdown",
      "source": [
        "***3. Exploratory Data Analysis (EDA)***"
      ],
      "metadata": {
        "id": "u73U-UjgevUD"
      }
    },
    {
      "cell_type": "code",
      "source": [
        "train_data = pd.read_csv(\"/kaggle/input/store-sales-time-series-forecasting/train.csv\")\n",
        "test_data = pd.read_csv(\"/kaggle/input/store-sales-time-series-forecasting/test.csv\")\n",
        "holiday_events =pd.read_csv(\"/kaggle/input/store-sales-time-series-forecasting/holidays_events.csv\")\n",
        "oil = pd.read_csv(\"/kaggle/input/store-sales-time-series-forecasting/oil.csv\")\n",
        "stores = pd.read_csv(\"/kaggle/input/store-sales-time-series-forecasting/stores.csv\")\n",
        "transactions = pd.read_csv(\"/kaggle/input/store-sales-time-series-forecasting/transactions.csv\")"
      ],
      "metadata": {
        "id": "CuSZ4ZB3f99p"
      },
      "execution_count": 30,
      "outputs": []
    },
    {
      "cell_type": "code",
      "source": [
        "train_data.describe()\n"
      ],
      "metadata": {
        "colab": {
          "base_uri": "https://localhost:8080/",
          "height": 300
        },
        "id": "8wzwdAjOgMZq",
        "outputId": "9a8d06cd-dfe9-45b5-8c11-b61abcef86ca"
      },
      "execution_count": 7,
      "outputs": [
        {
          "output_type": "execute_result",
          "data": {
            "text/plain": [
              "                 id     store_nbr         sales   onpromotion\n",
              "count  3.000888e+06  3.000888e+06  3.000888e+06  3.000888e+06\n",
              "mean   1.500444e+06  2.750000e+01  3.577757e+02  2.602770e+00\n",
              "std    8.662819e+05  1.558579e+01  1.101998e+03  1.221888e+01\n",
              "min    0.000000e+00  1.000000e+00  0.000000e+00  0.000000e+00\n",
              "25%    7.502218e+05  1.400000e+01  0.000000e+00  0.000000e+00\n",
              "50%    1.500444e+06  2.750000e+01  1.100000e+01  0.000000e+00\n",
              "75%    2.250665e+06  4.100000e+01  1.958473e+02  0.000000e+00\n",
              "max    3.000887e+06  5.400000e+01  1.247170e+05  7.410000e+02"
            ],
            "text/html": [
              "\n",
              "  <div id=\"df-ed2ca385-4d31-48be-bcd8-4edd35f7b3c0\" class=\"colab-df-container\">\n",
              "    <div>\n",
              "<style scoped>\n",
              "    .dataframe tbody tr th:only-of-type {\n",
              "        vertical-align: middle;\n",
              "    }\n",
              "\n",
              "    .dataframe tbody tr th {\n",
              "        vertical-align: top;\n",
              "    }\n",
              "\n",
              "    .dataframe thead th {\n",
              "        text-align: right;\n",
              "    }\n",
              "</style>\n",
              "<table border=\"1\" class=\"dataframe\">\n",
              "  <thead>\n",
              "    <tr style=\"text-align: right;\">\n",
              "      <th></th>\n",
              "      <th>id</th>\n",
              "      <th>store_nbr</th>\n",
              "      <th>sales</th>\n",
              "      <th>onpromotion</th>\n",
              "    </tr>\n",
              "  </thead>\n",
              "  <tbody>\n",
              "    <tr>\n",
              "      <th>count</th>\n",
              "      <td>3.000888e+06</td>\n",
              "      <td>3.000888e+06</td>\n",
              "      <td>3.000888e+06</td>\n",
              "      <td>3.000888e+06</td>\n",
              "    </tr>\n",
              "    <tr>\n",
              "      <th>mean</th>\n",
              "      <td>1.500444e+06</td>\n",
              "      <td>2.750000e+01</td>\n",
              "      <td>3.577757e+02</td>\n",
              "      <td>2.602770e+00</td>\n",
              "    </tr>\n",
              "    <tr>\n",
              "      <th>std</th>\n",
              "      <td>8.662819e+05</td>\n",
              "      <td>1.558579e+01</td>\n",
              "      <td>1.101998e+03</td>\n",
              "      <td>1.221888e+01</td>\n",
              "    </tr>\n",
              "    <tr>\n",
              "      <th>min</th>\n",
              "      <td>0.000000e+00</td>\n",
              "      <td>1.000000e+00</td>\n",
              "      <td>0.000000e+00</td>\n",
              "      <td>0.000000e+00</td>\n",
              "    </tr>\n",
              "    <tr>\n",
              "      <th>25%</th>\n",
              "      <td>7.502218e+05</td>\n",
              "      <td>1.400000e+01</td>\n",
              "      <td>0.000000e+00</td>\n",
              "      <td>0.000000e+00</td>\n",
              "    </tr>\n",
              "    <tr>\n",
              "      <th>50%</th>\n",
              "      <td>1.500444e+06</td>\n",
              "      <td>2.750000e+01</td>\n",
              "      <td>1.100000e+01</td>\n",
              "      <td>0.000000e+00</td>\n",
              "    </tr>\n",
              "    <tr>\n",
              "      <th>75%</th>\n",
              "      <td>2.250665e+06</td>\n",
              "      <td>4.100000e+01</td>\n",
              "      <td>1.958473e+02</td>\n",
              "      <td>0.000000e+00</td>\n",
              "    </tr>\n",
              "    <tr>\n",
              "      <th>max</th>\n",
              "      <td>3.000887e+06</td>\n",
              "      <td>5.400000e+01</td>\n",
              "      <td>1.247170e+05</td>\n",
              "      <td>7.410000e+02</td>\n",
              "    </tr>\n",
              "  </tbody>\n",
              "</table>\n",
              "</div>\n",
              "    <div class=\"colab-df-buttons\">\n",
              "\n",
              "  <div class=\"colab-df-container\">\n",
              "    <button class=\"colab-df-convert\" onclick=\"convertToInteractive('df-ed2ca385-4d31-48be-bcd8-4edd35f7b3c0')\"\n",
              "            title=\"Convert this dataframe to an interactive table.\"\n",
              "            style=\"display:none;\">\n",
              "\n",
              "  <svg xmlns=\"http://www.w3.org/2000/svg\" height=\"24px\" viewBox=\"0 -960 960 960\">\n",
              "    <path d=\"M120-120v-720h720v720H120Zm60-500h600v-160H180v160Zm220 220h160v-160H400v160Zm0 220h160v-160H400v160ZM180-400h160v-160H180v160Zm440 0h160v-160H620v160ZM180-180h160v-160H180v160Zm440 0h160v-160H620v160Z\"/>\n",
              "  </svg>\n",
              "    </button>\n",
              "\n",
              "  <style>\n",
              "    .colab-df-container {\n",
              "      display:flex;\n",
              "      gap: 12px;\n",
              "    }\n",
              "\n",
              "    .colab-df-convert {\n",
              "      background-color: #E8F0FE;\n",
              "      border: none;\n",
              "      border-radius: 50%;\n",
              "      cursor: pointer;\n",
              "      display: none;\n",
              "      fill: #1967D2;\n",
              "      height: 32px;\n",
              "      padding: 0 0 0 0;\n",
              "      width: 32px;\n",
              "    }\n",
              "\n",
              "    .colab-df-convert:hover {\n",
              "      background-color: #E2EBFA;\n",
              "      box-shadow: 0px 1px 2px rgba(60, 64, 67, 0.3), 0px 1px 3px 1px rgba(60, 64, 67, 0.15);\n",
              "      fill: #174EA6;\n",
              "    }\n",
              "\n",
              "    .colab-df-buttons div {\n",
              "      margin-bottom: 4px;\n",
              "    }\n",
              "\n",
              "    [theme=dark] .colab-df-convert {\n",
              "      background-color: #3B4455;\n",
              "      fill: #D2E3FC;\n",
              "    }\n",
              "\n",
              "    [theme=dark] .colab-df-convert:hover {\n",
              "      background-color: #434B5C;\n",
              "      box-shadow: 0px 1px 3px 1px rgba(0, 0, 0, 0.15);\n",
              "      filter: drop-shadow(0px 1px 2px rgba(0, 0, 0, 0.3));\n",
              "      fill: #FFFFFF;\n",
              "    }\n",
              "  </style>\n",
              "\n",
              "    <script>\n",
              "      const buttonEl =\n",
              "        document.querySelector('#df-ed2ca385-4d31-48be-bcd8-4edd35f7b3c0 button.colab-df-convert');\n",
              "      buttonEl.style.display =\n",
              "        google.colab.kernel.accessAllowed ? 'block' : 'none';\n",
              "\n",
              "      async function convertToInteractive(key) {\n",
              "        const element = document.querySelector('#df-ed2ca385-4d31-48be-bcd8-4edd35f7b3c0');\n",
              "        const dataTable =\n",
              "          await google.colab.kernel.invokeFunction('convertToInteractive',\n",
              "                                                    [key], {});\n",
              "        if (!dataTable) return;\n",
              "\n",
              "        const docLinkHtml = 'Like what you see? Visit the ' +\n",
              "          '<a target=\"_blank\" href=https://colab.research.google.com/notebooks/data_table.ipynb>data table notebook</a>'\n",
              "          + ' to learn more about interactive tables.';\n",
              "        element.innerHTML = '';\n",
              "        dataTable['output_type'] = 'display_data';\n",
              "        await google.colab.output.renderOutput(dataTable, element);\n",
              "        const docLink = document.createElement('div');\n",
              "        docLink.innerHTML = docLinkHtml;\n",
              "        element.appendChild(docLink);\n",
              "      }\n",
              "    </script>\n",
              "  </div>\n",
              "\n",
              "\n",
              "<div id=\"df-8d619e22-803e-46e8-a3ec-a34c5034cbaf\">\n",
              "  <button class=\"colab-df-quickchart\" onclick=\"quickchart('df-8d619e22-803e-46e8-a3ec-a34c5034cbaf')\"\n",
              "            title=\"Suggest charts\"\n",
              "            style=\"display:none;\">\n",
              "\n",
              "<svg xmlns=\"http://www.w3.org/2000/svg\" height=\"24px\"viewBox=\"0 0 24 24\"\n",
              "     width=\"24px\">\n",
              "    <g>\n",
              "        <path d=\"M19 3H5c-1.1 0-2 .9-2 2v14c0 1.1.9 2 2 2h14c1.1 0 2-.9 2-2V5c0-1.1-.9-2-2-2zM9 17H7v-7h2v7zm4 0h-2V7h2v10zm4 0h-2v-4h2v4z\"/>\n",
              "    </g>\n",
              "</svg>\n",
              "  </button>\n",
              "\n",
              "<style>\n",
              "  .colab-df-quickchart {\n",
              "      --bg-color: #E8F0FE;\n",
              "      --fill-color: #1967D2;\n",
              "      --hover-bg-color: #E2EBFA;\n",
              "      --hover-fill-color: #174EA6;\n",
              "      --disabled-fill-color: #AAA;\n",
              "      --disabled-bg-color: #DDD;\n",
              "  }\n",
              "\n",
              "  [theme=dark] .colab-df-quickchart {\n",
              "      --bg-color: #3B4455;\n",
              "      --fill-color: #D2E3FC;\n",
              "      --hover-bg-color: #434B5C;\n",
              "      --hover-fill-color: #FFFFFF;\n",
              "      --disabled-bg-color: #3B4455;\n",
              "      --disabled-fill-color: #666;\n",
              "  }\n",
              "\n",
              "  .colab-df-quickchart {\n",
              "    background-color: var(--bg-color);\n",
              "    border: none;\n",
              "    border-radius: 50%;\n",
              "    cursor: pointer;\n",
              "    display: none;\n",
              "    fill: var(--fill-color);\n",
              "    height: 32px;\n",
              "    padding: 0;\n",
              "    width: 32px;\n",
              "  }\n",
              "\n",
              "  .colab-df-quickchart:hover {\n",
              "    background-color: var(--hover-bg-color);\n",
              "    box-shadow: 0 1px 2px rgba(60, 64, 67, 0.3), 0 1px 3px 1px rgba(60, 64, 67, 0.15);\n",
              "    fill: var(--button-hover-fill-color);\n",
              "  }\n",
              "\n",
              "  .colab-df-quickchart-complete:disabled,\n",
              "  .colab-df-quickchart-complete:disabled:hover {\n",
              "    background-color: var(--disabled-bg-color);\n",
              "    fill: var(--disabled-fill-color);\n",
              "    box-shadow: none;\n",
              "  }\n",
              "\n",
              "  .colab-df-spinner {\n",
              "    border: 2px solid var(--fill-color);\n",
              "    border-color: transparent;\n",
              "    border-bottom-color: var(--fill-color);\n",
              "    animation:\n",
              "      spin 1s steps(1) infinite;\n",
              "  }\n",
              "\n",
              "  @keyframes spin {\n",
              "    0% {\n",
              "      border-color: transparent;\n",
              "      border-bottom-color: var(--fill-color);\n",
              "      border-left-color: var(--fill-color);\n",
              "    }\n",
              "    20% {\n",
              "      border-color: transparent;\n",
              "      border-left-color: var(--fill-color);\n",
              "      border-top-color: var(--fill-color);\n",
              "    }\n",
              "    30% {\n",
              "      border-color: transparent;\n",
              "      border-left-color: var(--fill-color);\n",
              "      border-top-color: var(--fill-color);\n",
              "      border-right-color: var(--fill-color);\n",
              "    }\n",
              "    40% {\n",
              "      border-color: transparent;\n",
              "      border-right-color: var(--fill-color);\n",
              "      border-top-color: var(--fill-color);\n",
              "    }\n",
              "    60% {\n",
              "      border-color: transparent;\n",
              "      border-right-color: var(--fill-color);\n",
              "    }\n",
              "    80% {\n",
              "      border-color: transparent;\n",
              "      border-right-color: var(--fill-color);\n",
              "      border-bottom-color: var(--fill-color);\n",
              "    }\n",
              "    90% {\n",
              "      border-color: transparent;\n",
              "      border-bottom-color: var(--fill-color);\n",
              "    }\n",
              "  }\n",
              "</style>\n",
              "\n",
              "  <script>\n",
              "    async function quickchart(key) {\n",
              "      const quickchartButtonEl =\n",
              "        document.querySelector('#' + key + ' button');\n",
              "      quickchartButtonEl.disabled = true;  // To prevent multiple clicks.\n",
              "      quickchartButtonEl.classList.add('colab-df-spinner');\n",
              "      try {\n",
              "        const charts = await google.colab.kernel.invokeFunction(\n",
              "            'suggestCharts', [key], {});\n",
              "      } catch (error) {\n",
              "        console.error('Error during call to suggestCharts:', error);\n",
              "      }\n",
              "      quickchartButtonEl.classList.remove('colab-df-spinner');\n",
              "      quickchartButtonEl.classList.add('colab-df-quickchart-complete');\n",
              "    }\n",
              "    (() => {\n",
              "      let quickchartButtonEl =\n",
              "        document.querySelector('#df-8d619e22-803e-46e8-a3ec-a34c5034cbaf button');\n",
              "      quickchartButtonEl.style.display =\n",
              "        google.colab.kernel.accessAllowed ? 'block' : 'none';\n",
              "    })();\n",
              "  </script>\n",
              "</div>\n",
              "\n",
              "    </div>\n",
              "  </div>\n"
            ]
          },
          "metadata": {},
          "execution_count": 7
        }
      ]
    },
    {
      "cell_type": "code",
      "source": [
        "print(\"train: \\n\",train_data.head(),\"\\n\")"
      ],
      "metadata": {
        "colab": {
          "base_uri": "https://localhost:8080/"
        },
        "id": "644RnXX4gQCJ",
        "outputId": "3ef5dcb6-0a64-49dd-e044-26fbc4e78935"
      },
      "execution_count": null,
      "outputs": [
        {
          "output_type": "stream",
          "name": "stdout",
          "text": [
            "train: \n",
            "    id        date  store_nbr      family  sales  onpromotion\n",
            "0   0  2013-01-01          1  AUTOMOTIVE    0.0            0\n",
            "1   1  2013-01-01          1   BABY CARE    0.0            0\n",
            "2   2  2013-01-01          1      BEAUTY    0.0            0\n",
            "3   3  2013-01-01          1   BEVERAGES    0.0            0\n",
            "4   4  2013-01-01          1       BOOKS    0.0            0 \n",
            "\n"
          ]
        }
      ]
    },
    {
      "cell_type": "code",
      "source": [
        "print(\"holiday_events: \\n\",holiday_events.head(),\"\\n\")"
      ],
      "metadata": {
        "colab": {
          "base_uri": "https://localhost:8080/"
        },
        "id": "58ZR-J37iRvh",
        "outputId": "8e651f35-5625-43b2-a199-9fd2201fe933"
      },
      "execution_count": null,
      "outputs": [
        {
          "output_type": "stream",
          "name": "stdout",
          "text": [
            "holiday_events: \n",
            "          date     type    locale locale_name                    description  \\\n",
            "0  2012-03-02  Holiday     Local       Manta             Fundacion de Manta   \n",
            "1  2012-04-01  Holiday  Regional    Cotopaxi  Provincializacion de Cotopaxi   \n",
            "2  2012-04-12  Holiday     Local      Cuenca            Fundacion de Cuenca   \n",
            "3  2012-04-14  Holiday     Local    Libertad      Cantonizacion de Libertad   \n",
            "4  2012-04-21  Holiday     Local    Riobamba      Cantonizacion de Riobamba   \n",
            "\n",
            "   transferred  \n",
            "0        False  \n",
            "1        False  \n",
            "2        False  \n",
            "3        False  \n",
            "4        False   \n",
            "\n"
          ]
        }
      ]
    },
    {
      "cell_type": "code",
      "source": [
        "print(\"oil: \\n\", oil.head(),\"\\n\")"
      ],
      "metadata": {
        "colab": {
          "base_uri": "https://localhost:8080/"
        },
        "id": "wdV5ruCSipbQ",
        "outputId": "e6066d21-b18d-4b13-e875-f859372c37ad"
      },
      "execution_count": null,
      "outputs": [
        {
          "output_type": "stream",
          "name": "stdout",
          "text": [
            "oil: \n",
            "          date  dcoilwtico\n",
            "0  2013-01-01         NaN\n",
            "1  2013-01-02       93.14\n",
            "2  2013-01-03       92.97\n",
            "3  2013-01-04       93.12\n",
            "4  2013-01-07       93.20 \n",
            "\n"
          ]
        }
      ]
    },
    {
      "cell_type": "code",
      "source": [
        "print(\"transactions: \\n\", transactions.head(),\"\\n\")"
      ],
      "metadata": {
        "colab": {
          "base_uri": "https://localhost:8080/"
        },
        "id": "kdjmoyUyiz8g",
        "outputId": "15a5d64b-0b76-4cec-c02e-f02081878ef5"
      },
      "execution_count": null,
      "outputs": [
        {
          "output_type": "stream",
          "name": "stdout",
          "text": [
            "transactions: \n",
            "          date  store_nbr  transactions\n",
            "0  2013-01-01         25           770\n",
            "1  2013-01-02          1          2111\n",
            "2  2013-01-02          2          2358\n",
            "3  2013-01-02          3          3487\n",
            "4  2013-01-02          4          1922 \n",
            "\n"
          ]
        }
      ]
    },
    {
      "cell_type": "code",
      "source": [
        "print(\"train info: \\n\", train_data.info(),\"\\n\")\n",
        "print(\"train shape: \\n\", train_data.shape,\"\\n\")"
      ],
      "metadata": {
        "colab": {
          "base_uri": "https://localhost:8080/"
        },
        "id": "sFd0hU2bgdRK",
        "outputId": "cb9d63db-98f1-4860-a039-6d7a60e2f79a"
      },
      "execution_count": null,
      "outputs": [
        {
          "output_type": "stream",
          "name": "stdout",
          "text": [
            "<class 'pandas.core.frame.DataFrame'>\n",
            "RangeIndex: 3000888 entries, 0 to 3000887\n",
            "Data columns (total 6 columns):\n",
            " #   Column       Dtype  \n",
            "---  ------       -----  \n",
            " 0   id           int64  \n",
            " 1   date         object \n",
            " 2   store_nbr    int64  \n",
            " 3   family       object \n",
            " 4   sales        float64\n",
            " 5   onpromotion  int64  \n",
            "dtypes: float64(1), int64(3), object(2)\n",
            "memory usage: 137.4+ MB\n",
            "train info: \n",
            " None \n",
            "\n",
            "train shape: \n",
            " (3000888, 6) \n",
            "\n"
          ]
        }
      ]
    },
    {
      "cell_type": "code",
      "source": [
        "class_counts = train_data['family'].value_counts()"
      ],
      "metadata": {
        "id": "7nS7UuM3hdS4"
      },
      "execution_count": null,
      "outputs": []
    },
    {
      "cell_type": "code",
      "source": [
        "print(class_counts)"
      ],
      "metadata": {
        "colab": {
          "base_uri": "https://localhost:8080/"
        },
        "id": "hoIfj17siErY",
        "outputId": "6e99cee1-a31f-46ce-d091-261da2161a34"
      },
      "execution_count": null,
      "outputs": [
        {
          "output_type": "stream",
          "name": "stdout",
          "text": [
            "AUTOMOTIVE                    90936\n",
            "HOME APPLIANCES               90936\n",
            "SCHOOL AND OFFICE SUPPLIES    90936\n",
            "PRODUCE                       90936\n",
            "PREPARED FOODS                90936\n",
            "POULTRY                       90936\n",
            "PLAYERS AND ELECTRONICS       90936\n",
            "PET SUPPLIES                  90936\n",
            "PERSONAL CARE                 90936\n",
            "MEATS                         90936\n",
            "MAGAZINES                     90936\n",
            "LIQUOR,WINE,BEER              90936\n",
            "LINGERIE                      90936\n",
            "LAWN AND GARDEN               90936\n",
            "LADIESWEAR                    90936\n",
            "HOME CARE                     90936\n",
            "HOME AND KITCHEN II           90936\n",
            "BABY CARE                     90936\n",
            "HOME AND KITCHEN I            90936\n",
            "HARDWARE                      90936\n",
            "GROCERY II                    90936\n",
            "GROCERY I                     90936\n",
            "FROZEN FOODS                  90936\n",
            "EGGS                          90936\n",
            "DELI                          90936\n",
            "DAIRY                         90936\n",
            "CLEANING                      90936\n",
            "CELEBRATION                   90936\n",
            "BREAD/BAKERY                  90936\n",
            "BOOKS                         90936\n",
            "BEVERAGES                     90936\n",
            "BEAUTY                        90936\n",
            "SEAFOOD                       90936\n",
            "Name: family, dtype: int64\n"
          ]
        }
      ]
    },
    {
      "cell_type": "code",
      "source": [
        "from statsmodels.tsa.seasonal import seasonal_decompose"
      ],
      "metadata": {
        "id": "L9NMfTGdo2G6"
      },
      "execution_count": null,
      "outputs": []
    },
    {
      "cell_type": "code",
      "source": [
        "def plot_series(time, series, format=\"-\", start=0, end=None):\n",
        "    fig, ax = plt.subplots(figsize=(20,5))\n",
        "    plt.plot(time[start:end], series[start:end], format)\n",
        "    plt.xlabel(\"Time\")\n",
        "    plt.ylabel(\"Sales\")\n",
        "    plt.grid(True)\n",
        "    plt.show()\n",
        "    plt.close()"
      ],
      "metadata": {
        "id": "0W1VLkAaiGSw"
      },
      "execution_count": null,
      "outputs": []
    },
    {
      "cell_type": "code",
      "source": [
        "plot_series(train_data[\"date\"], train_data[\"sales\"], format=\"-\", start=0, end=None)"
      ],
      "metadata": {
        "colab": {
          "base_uri": "https://localhost:8080/",
          "height": 422
        },
        "id": "PJiKuIXKjOin",
        "outputId": "b6de8cb9-d384-4787-92f6-1188afa33761"
      },
      "execution_count": null,
      "outputs": [
        {
          "output_type": "display_data",
          "data": {
            "text/plain": [
              "<Figure size 2000x500 with 1 Axes>"
            ],
            "image/png": "[encoded data removed]"
          },
          "metadata": {}
        }
      ]
    },
    {
      "cell_type": "code",
      "source": [
        "decomposition = seasonal_decompose(train_data['sales'], model='additive', period=365)\n",
        "trend = decomposition.trend\n",
        "seasonal = decomposition.seasonal\n",
        "residual = decomposition.resid\n",
        "\n",
        "plt.figure(figsize=(12, 8))\n",
        "plt.subplot(411)\n",
        "plt.plot(train_data['sales'], label='Original')\n",
        "plt.legend(loc='best')\n",
        "plt.subplot(412)\n",
        "plt.plot(trend, label='Trend')\n",
        "plt.legend(loc='best')\n",
        "plt.subplot(413)\n",
        "plt.plot(seasonal, label='Seasonality')\n",
        "plt.legend(loc='best')\n",
        "plt.subplot(414)\n",
        "plt.plot(residual, label='Residuals')\n",
        "plt.legend(loc='best')\n",
        "plt.tight_layout()\n",
        "plt.show()"
      ],
      "metadata": {
        "colab": {
          "base_uri": "https://localhost:8080/",
          "height": 807
        },
        "id": "b_ghYQHxoox6",
        "outputId": "f8c7727f-38ea-4504-bf69-fd73c21e9ad7"
      },
      "execution_count": null,
      "outputs": [
        {
          "output_type": "display_data",
          "data": {
            "text/plain": [
              "<Figure size 1200x800 with 4 Axes>"
            ],
            "image/png": "[encoded data removed]"
          },
          "metadata": {}
        }
      ]
    },
    {
      "cell_type": "code",
      "source": [
        "train_data['date'] = pd.to_datetime(train_data['date'])"
      ],
      "metadata": {
        "id": "EXXXSH_klcpd"
      },
      "execution_count": 31,
      "outputs": []
    },
    {
      "cell_type": "code",
      "source": [
        "train_data['year'] = train_data['date'].dt.year\n",
        "train_data['month'] = train_data['date'].dt.month\n",
        "train_data['day'] = train_data['date'].dt.day\n",
        "train_data['day_of_week'] = train_data['date'].dt.dayofweek\n",
        "train_data['weekend'] = train_data['day_of_week'].isin([5, 6]).astype(int)"
      ],
      "metadata": {
        "id": "f9hq1-YalLL3"
      },
      "execution_count": null,
      "outputs": []
    },
    {
      "cell_type": "code",
      "source": [
        "plt.figure(figsize=(8, 4))\n",
        "train_data.groupby('month')['sales'].mean().plot(kind='bar')\n",
        "plt.title('Average Sales by Month')\n",
        "plt.xlabel('Month')\n",
        "plt.ylabel('Average Sales')\n",
        "plt.show()"
      ],
      "metadata": {
        "colab": {
          "base_uri": "https://localhost:8080/",
          "height": 414
        },
        "id": "7GNmbmpGk8H_",
        "outputId": "15e50677-5ade-4d95-9e73-215c4908c196"
      },
      "execution_count": null,
      "outputs": [
        {
          "output_type": "display_data",
          "data": {
            "text/plain": [
              "<Figure size 800x400 with 1 Axes>"
            ],
            "image/png": "[encoded data removed]"
          },
          "metadata": {}
        }
      ]
    },
    {
      "cell_type": "code",
      "source": [
        "import statsmodels.api as sm\n",
        "t_series = train_data.groupby(['date'])['sales'].agg(['mean']).reset_index().rename(columns={'mean': 'msales'})\n",
        "t_series = t_series.set_index('date')\n",
        "sample= t_series['msales'].resample('MS').mean()\n",
        "decomposition = sm.tsa.seasonal_decompose(sample, model='additive')\n",
        "fig = decomposition.plot()\n",
        "fig.tight_layout()\n",
        "plt.show()\n",
        "plt.close()"
      ],
      "metadata": {
        "colab": {
          "base_uri": "https://localhost:8080/",
          "height": 487
        },
        "id": "rPxvfr_CltG9",
        "outputId": "a82d3fd3-e785-423a-958d-77256ee4412d"
      },
      "execution_count": null,
      "outputs": [
        {
          "output_type": "display_data",
          "data": {
            "text/plain": [
              "<Figure size 640x480 with 4 Axes>"
            ],
            "image/png": "[encoded data removed]"
          },
          "metadata": {}
        }
      ]
    },
    {
      "cell_type": "code",
      "source": [
        "for name in train_data.select_dtypes(\"number\"):\n",
        "        train_data[name] = train_data[name].fillna(train_data[name].median())\n",
        "\n",
        "for name in train_data.select_dtypes(\"object\"):\n",
        "        train_data[name] = train_data[name].fillna(\"None\")"
      ],
      "metadata": {
        "id": "VO9go6WOmc0V"
      },
      "execution_count": 32,
      "outputs": []
    },
    {
      "cell_type": "code",
      "source": [
        "train_data = train_data.drop('date', axis=1)"
      ],
      "metadata": {
        "id": "85iAQeDlmlVM"
      },
      "execution_count": 33,
      "outputs": []
    },
    {
      "cell_type": "code",
      "source": [
        "cat = ['store_nbr', 'family']\n",
        "data = pd.get_dummies(train_data, columns=cat, drop_first=True)"
      ],
      "metadata": {
        "id": "JAkYSZahmvEt"
      },
      "execution_count": 34,
      "outputs": []
    },
    {
      "cell_type": "code",
      "source": [
        "print(\"train info: \\n\", data.info(),\"\\n\")\n",
        "print(\"train shape: \\n\", data.shape,\"\\n\")"
      ],
      "metadata": {
        "colab": {
          "base_uri": "https://localhost:8080/"
        },
        "id": "qLq2ljS8nhHM",
        "outputId": "03338b28-5de9-443f-e42d-96a03809b8f5"
      },
      "execution_count": 13,
      "outputs": [
        {
          "output_type": "stream",
          "name": "stdout",
          "text": [
            "<class 'pandas.core.frame.DataFrame'>\n",
            "RangeIndex: 3000888 entries, 0 to 3000887\n",
            "Data columns (total 88 columns):\n",
            " #   Column                             Dtype  \n",
            "---  ------                             -----  \n",
            " 0   id                                 int64  \n",
            " 1   sales                              float64\n",
            " 2   onpromotion                        int64  \n",
            " 3   store_nbr_2                        uint8  \n",
            " 4   store_nbr_3                        uint8  \n",
            " 5   store_nbr_4                        uint8  \n",
            " 6   store_nbr_5                        uint8  \n",
            " 7   store_nbr_6                        uint8  \n",
            " 8   store_nbr_7                        uint8  \n",
            " 9   store_nbr_8                        uint8  \n",
            " 10  store_nbr_9                        uint8  \n",
            " 11  store_nbr_10                       uint8  \n",
            " 12  store_nbr_11                       uint8  \n",
            " 13  store_nbr_12                       uint8  \n",
            " 14  store_nbr_13                       uint8  \n",
            " 15  store_nbr_14                       uint8  \n",
            " 16  store_nbr_15                       uint8  \n",
            " 17  store_nbr_16                       uint8  \n",
            " 18  store_nbr_17                       uint8  \n",
            " 19  store_nbr_18                       uint8  \n",
            " 20  store_nbr_19                       uint8  \n",
            " 21  store_nbr_20                       uint8  \n",
            " 22  store_nbr_21                       uint8  \n",
            " 23  store_nbr_22                       uint8  \n",
            " 24  store_nbr_23                       uint8  \n",
            " 25  store_nbr_24                       uint8  \n",
            " 26  store_nbr_25                       uint8  \n",
            " 27  store_nbr_26                       uint8  \n",
            " 28  store_nbr_27                       uint8  \n",
            " 29  store_nbr_28                       uint8  \n",
            " 30  store_nbr_29                       uint8  \n",
            " 31  store_nbr_30                       uint8  \n",
            " 32  store_nbr_31                       uint8  \n",
            " 33  store_nbr_32                       uint8  \n",
            " 34  store_nbr_33                       uint8  \n",
            " 35  store_nbr_34                       uint8  \n",
            " 36  store_nbr_35                       uint8  \n",
            " 37  store_nbr_36                       uint8  \n",
            " 38  store_nbr_37                       uint8  \n",
            " 39  store_nbr_38                       uint8  \n",
            " 40  store_nbr_39                       uint8  \n",
            " 41  store_nbr_40                       uint8  \n",
            " 42  store_nbr_41                       uint8  \n",
            " 43  store_nbr_42                       uint8  \n",
            " 44  store_nbr_43                       uint8  \n",
            " 45  store_nbr_44                       uint8  \n",
            " 46  store_nbr_45                       uint8  \n",
            " 47  store_nbr_46                       uint8  \n",
            " 48  store_nbr_47                       uint8  \n",
            " 49  store_nbr_48                       uint8  \n",
            " 50  store_nbr_49                       uint8  \n",
            " 51  store_nbr_50                       uint8  \n",
            " 52  store_nbr_51                       uint8  \n",
            " 53  store_nbr_52                       uint8  \n",
            " 54  store_nbr_53                       uint8  \n",
            " 55  store_nbr_54                       uint8  \n",
            " 56  family_BABY CARE                   uint8  \n",
            " 57  family_BEAUTY                      uint8  \n",
            " 58  family_BEVERAGES                   uint8  \n",
            " 59  family_BOOKS                       uint8  \n",
            " 60  family_BREAD/BAKERY                uint8  \n",
            " 61  family_CELEBRATION                 uint8  \n",
            " 62  family_CLEANING                    uint8  \n",
            " 63  family_DAIRY                       uint8  \n",
            " 64  family_DELI                        uint8  \n",
            " 65  family_EGGS                        uint8  \n",
            " 66  family_FROZEN FOODS                uint8  \n",
            " 67  family_GROCERY I                   uint8  \n",
            " 68  family_GROCERY II                  uint8  \n",
            " 69  family_HARDWARE                    uint8  \n",
            " 70  family_HOME AND KITCHEN I          uint8  \n",
            " 71  family_HOME AND KITCHEN II         uint8  \n",
            " 72  family_HOME APPLIANCES             uint8  \n",
            " 73  family_HOME CARE                   uint8  \n",
            " 74  family_LADIESWEAR                  uint8  \n",
            " 75  family_LAWN AND GARDEN             uint8  \n",
            " 76  family_LINGERIE                    uint8  \n",
            " 77  family_LIQUOR,WINE,BEER            uint8  \n",
            " 78  family_MAGAZINES                   uint8  \n",
            " 79  family_MEATS                       uint8  \n",
            " 80  family_PERSONAL CARE               uint8  \n",
            " 81  family_PET SUPPLIES                uint8  \n",
            " 82  family_PLAYERS AND ELECTRONICS     uint8  \n",
            " 83  family_POULTRY                     uint8  \n",
            " 84  family_PREPARED FOODS              uint8  \n",
            " 85  family_PRODUCE                     uint8  \n",
            " 86  family_SCHOOL AND OFFICE SUPPLIES  uint8  \n",
            " 87  family_SEAFOOD                     uint8  \n",
            "dtypes: float64(1), int64(2), uint8(85)\n",
            "memory usage: 311.9 MB\n",
            "train info: \n",
            " None \n",
            "\n",
            "train shape: \n",
            " (3000888, 88) \n",
            "\n"
          ]
        }
      ]
    },
    {
      "cell_type": "markdown",
      "source": [
        "***4. Deep Learning Model***"
      ],
      "metadata": {
        "id": "vm5pqqJrezL6"
      }
    },
    {
      "cell_type": "code",
      "source": [
        "from sklearn.model_selection import train_test_split\n",
        "from sklearn.preprocessing import StandardScaler\n",
        "from keras.models import Sequential\n",
        "from keras import regularizers\n",
        "from keras.layers import LSTM, Dense, LeakyReLU\n",
        "from keras.optimizers import Adam\n",
        "from sklearn.metrics import mean_squared_log_error\n",
        "from sklearn.preprocessing import MinMaxScaler\n",
        "from keras.callbacks import Callback"
      ],
      "metadata": {
        "id": "l3PpjQWqn3zT"
      },
      "execution_count": 8,
      "outputs": []
    },
    {
      "cell_type": "code",
      "source": [
        "dl_train = data.loc[train_data.index, :]\n",
        "dl_test = data.loc[test_data.index, :]\n",
        "dl_test.drop('sales', axis=1, inplace=True)"
      ],
      "metadata": {
        "id": "MJLatkkEpoHs"
      },
      "execution_count": 14,
      "outputs": []
    },
    {
      "cell_type": "code",
      "source": [
        "dl_clean = dl_train.dropna(subset=['sales'])\n",
        "features = dl_clean.columns.difference(['date'])\n",
        "X = dl_clean[features].values\n",
        "y = dl_clean['sales'].values\n",
        "\n",
        "scaler = StandardScaler()\n",
        "X = scaler.fit_transform(X)\n",
        "\n",
        "X_train, X_valid, y_train, y_valid = train_test_split(X, y, test_size=0.2, random_state=42)\n",
        "\n",
        "X_train = X_train.reshape((X_train.shape[0], 1, X_train.shape[1]))\n",
        "X_valid = X_valid.reshape((X_valid.shape[0], 1, X_valid.shape[1]))\n",
        "\n",
        "y_scaler = MinMaxScaler()\n",
        "y_train = y_scaler.fit_transform(y_train.reshape(-1, 1))\n",
        "y_valid = y_scaler.transform(y_valid.reshape(-1, 1))"
      ],
      "metadata": {
        "id": "DSGD3Ir9qdjT"
      },
      "execution_count": 15,
      "outputs": []
    },
    {
      "cell_type": "markdown",
      "source": [
        "LSTM **v1**"
      ],
      "metadata": {
        "id": "f8KR8GeOq1Ih"
      }
    },
    {
      "cell_type": "markdown",
      "source": [
        "*The model architecture utilizes a sequential model consisting of an LSTM layer followed by three dense layers. The LSTM layer has 64 units and is designed to capture complex patterns in sequential data. The subsequent dense layers have 32, 16, and 1 units respectively. This architecture is well-suited for tasks involving sequential data, such as time series analysis and sequential prediction. Additionally, the use of dropout layers helps prevent overfitting. Overall, this architecture strikes a balance between capturing complex patterns and preventing overfitting.*"
      ],
      "metadata": {
        "id": "QGkxwvYh2SLP"
      }
    },
    {
      "cell_type": "code",
      "source": [
        "model = Sequential()\n",
        "\n",
        "model.add(LSTM(64, input_shape=(X_train.shape[1], X_train.shape[2])))\n",
        "\n",
        "model.add(Dense(32, activation=LeakyReLU(alpha = 0.1), kernel_regularizer = regularizers.l2(1e-4)))\n",
        "model.add(Dense(16, activation=LeakyReLU(alpha = 0.1), kernel_regularizer = regularizers.l2(1e-4)))\n",
        "model.add(Dense(1))\n",
        "\n",
        "optimizer = Adam(learning_rate=1e-4)\n",
        "model.compile(optimizer=optimizer, loss='binary_crossentropy', metrics=['accuracy'])\n",
        "\n",
        "early_stopping = EarlyStopping(monitor='val_loss', patience=2)\n",
        "model_checkpoint = ModelCheckpoint('best_model.h5', save_best_only=True, monitor='val_loss')\n",
        "\n",
        "model.summary()"
      ],
      "metadata": {
        "colab": {
          "base_uri": "https://localhost:8080/"
        },
        "id": "Yyzh7UfCqxew",
        "outputId": "41fc7587-b4f8-4444-b35f-2fe554aec364"
      },
      "execution_count": null,
      "outputs": [
        {
          "output_type": "stream",
          "name": "stdout",
          "text": [
            "Model: \"sequential\"\n",
            "_________________________________________________________________\n",
            " Layer (type)                Output Shape              Param #   \n",
            "=================================================================\n",
            " lstm (LSTM)                 (None, 64)                39168     \n",
            "                                                                 \n",
            " dense (Dense)               (None, 32)                2080      \n",
            "                                                                 \n",
            " dense_1 (Dense)             (None, 16)                528       \n",
            "                                                                 \n",
            " dense_2 (Dense)             (None, 1)                 17        \n",
            "                                                                 \n",
            "=================================================================\n",
            "Total params: 41793 (163.25 KB)\n",
            "Trainable params: 41793 (163.25 KB)\n",
            "Non-trainable params: 0 (0.00 Byte)\n",
            "_________________________________________________________________\n"
          ]
        }
      ]
    },
    {
      "cell_type": "code",
      "source": [
        "history = model.fit(X_train, y_train, epochs=10, batch_size=512, validation_data=(X_valid, y_valid), verbose=1)"
      ],
      "metadata": {
        "colab": {
          "base_uri": "https://localhost:8080/"
        },
        "id": "O7VscgbouHjX",
        "outputId": "71afea98-0a0c-41b3-857e-f3ef4fd7e049"
      },
      "execution_count": null,
      "outputs": [
        {
          "output_type": "stream",
          "name": "stdout",
          "text": [
            "Epoch 1/10\n",
            "4689/4689 [==============================] - 34s 6ms/step - loss: 0.0318 - accuracy: 0.3129 - val_loss: 0.0262 - val_accuracy: 0.3130\n",
            "Epoch 2/10\n",
            "4689/4689 [==============================] - 28s 6ms/step - loss: 0.0249 - accuracy: 0.3129 - val_loss: 0.0241 - val_accuracy: 0.3130\n",
            "Epoch 3/10\n",
            "4689/4689 [==============================] - 26s 6ms/step - loss: 0.0231 - accuracy: 0.3129 - val_loss: 0.0223 - val_accuracy: 0.3130\n",
            "Epoch 4/10\n",
            "4689/4689 [==============================] - 27s 6ms/step - loss: 0.0218 - accuracy: 0.3129 - val_loss: 0.0213 - val_accuracy: 0.3130\n",
            "Epoch 5/10\n",
            "4689/4689 [==============================] - 27s 6ms/step - loss: 0.0207 - accuracy: 0.3129 - val_loss: 0.0202 - val_accuracy: 0.3130\n",
            "Epoch 6/10\n",
            "4689/4689 [==============================] - 29s 6ms/step - loss: 0.0197 - accuracy: 0.3129 - val_loss: 0.0195 - val_accuracy: 0.3130\n",
            "Epoch 7/10\n",
            "4689/4689 [==============================] - 27s 6ms/step - loss: 0.0188 - accuracy: 0.3129 - val_loss: 0.0183 - val_accuracy: 0.3130\n",
            "Epoch 8/10\n",
            "4689/4689 [==============================] - 27s 6ms/step - loss: 0.0177 - accuracy: 0.3129 - val_loss: 0.0173 - val_accuracy: 0.3130\n",
            "Epoch 9/10\n",
            "4689/4689 [==============================] - 29s 6ms/step - loss: 0.0167 - accuracy: 0.3129 - val_loss: 0.0164 - val_accuracy: 0.3130\n",
            "Epoch 10/10\n",
            "4689/4689 [==============================] - 27s 6ms/step - loss: 0.0159 - accuracy: 0.3129 - val_loss: 0.0156 - val_accuracy: 0.3130\n"
          ]
        }
      ]
    },
    {
      "cell_type": "code",
      "source": [
        "loss = history.history['loss']\n",
        "epochs = range(len(loss))\n",
        "plt.plot(epochs, loss, 'r', label='Training loss')\n",
        "plt.title('Training loss', size=15, weight='bold')\n",
        "plt.legend(loc=0)\n",
        "plt.figure()\n",
        "plt.show()"
      ],
      "metadata": {
        "colab": {
          "base_uri": "https://localhost:8080/",
          "height": 472
        },
        "id": "dTh3lKsWAw1W",
        "outputId": "9e9b9417-44b1-4886-fe11-35c663e4e3e5"
      },
      "execution_count": null,
      "outputs": [
        {
          "output_type": "display_data",
          "data": {
            "text/plain": [
              "<Figure size 640x480 with 1 Axes>"
            ],
            "image/png": "[encoded data removed]"
          },
          "metadata": {}
        },
        {
          "output_type": "display_data",
          "data": {
            "text/plain": [
              "<Figure size 640x480 with 0 Axes>"
            ]
          },
          "metadata": {}
        }
      ]
    },
    {
      "cell_type": "markdown",
      "source": [
        "*During the training process, after 10 epochs, the loss was 0.0159 with an accuracy of 31.29%, and the validation loss was 0.0156 with a validation accuracy of 31.30%. This suggests the model's performance was consistent between training and validation datasets.*"
      ],
      "metadata": {
        "id": "89YfyhQx2_iR"
      }
    },
    {
      "cell_type": "code",
      "source": [
        "lstm_preds1 = model.predict(X_valid)"
      ],
      "metadata": {
        "colab": {
          "base_uri": "https://localhost:8080/"
        },
        "id": "XwoKKyzWBTJG",
        "outputId": "69c77334-f205-4d10-f98e-be51ba11ed7d"
      },
      "execution_count": null,
      "outputs": [
        {
          "output_type": "stream",
          "name": "stdout",
          "text": [
            "18756/18756 [==============================] - 41s 2ms/step\n"
          ]
        }
      ]
    },
    {
      "cell_type": "code",
      "source": [
        "min_max_scaler1 = MinMaxScaler(feature_range=(0, 196))\n",
        "lstm_preds1 = min_max_scaler.fit_transform(lstm_preds1)\n",
        "lstm_preds1"
      ],
      "metadata": {
        "colab": {
          "base_uri": "https://localhost:8080/"
        },
        "id": "SncIISp6BYjB",
        "outputId": "22e5eaed-f349-4068-d098-bfce1363a426"
      },
      "execution_count": null,
      "outputs": [
        {
          "output_type": "execute_result",
          "data": {
            "text/plain": [
              "array([[40.96231 ],\n",
              "       [18.74516 ],\n",
              "       [23.148014],\n",
              "       ...,\n",
              "       [23.063604],\n",
              "       [25.67435 ],\n",
              "       [28.91996 ]], dtype=float32)"
            ]
          },
          "metadata": {},
          "execution_count": 33
        }
      ]
    },
    {
      "cell_type": "code",
      "source": [
        "lstm_preds1 = np.log1p(lstm_preds1)\n",
        "lstm_preds1 = np.exp(lstm_preds1)"
      ],
      "metadata": {
        "id": "wrb8FvyzBbO4"
      },
      "execution_count": null,
      "outputs": []
    },
    {
      "cell_type": "code",
      "source": [
        "lstm_preds_flat1 = lstm_preds1.flatten()\n",
        "y_valid_flat = y_valid.flatten()\n",
        "rmsle1 = np.sqrt(mean_squared_log_error(y_valid_flat, lstm_preds_flat1))\n",
        "print(\"LSTM RMSLEv1:\", rmsle1)"
      ],
      "metadata": {
        "colab": {
          "base_uri": "https://localhost:8080/"
        },
        "id": "m7RfpjuqBe8H",
        "outputId": "ab2bad91-4769-4981-8856-11029abfa953"
      },
      "execution_count": null,
      "outputs": [
        {
          "output_type": "stream",
          "name": "stdout",
          "text": [
            "LSTM RMSLEv1: 3.122509765563917\n"
          ]
        }
      ]
    },
    {
      "cell_type": "markdown",
      "source": [
        "LSTM **v2**"
      ],
      "metadata": {
        "id": "c3Zb2z0P2ukv"
      }
    },
    {
      "cell_type": "markdown",
      "source": [
        "*This modelv2 is created to identify intricate patterns in sequential data and avoid overfitting by incorporating dropout layers. It is may particularly suitable for analyzing sequential data such as time series and sequential prediction tasks. In the LSTM layer, we incorporate 96 units to define the dimensionality of the output space. We set the return_sequences parameter to True to return the last output in the output. Additionally, we include Dropout layers where 20% of the units are dropped. The subsequent step involves adding the Dense layer.*"
      ],
      "metadata": {
        "id": "uWG-DdX_5Rbl"
      }
    },
    {
      "cell_type": "code",
      "source": [
        "model2 = Sequential()\n",
        "model2.add(LSTM(units=96, return_sequences=True, input_shape=(X_train.shape[1], X_train.shape[2])))\n",
        "model2.add(Dropout(0.2))\n",
        "model2.add(LSTM(units=96, return_sequences=True))\n",
        "model2.add(Dropout(0.2))\n",
        "model2.add(LSTM(units=96, return_sequences=True))\n",
        "model2.add(Dropout(0.2))\n",
        "model2.add(LSTM(units=96))\n",
        "model2.add(Dropout(0.2))\n",
        "model2.add(Dense(50, activation=LeakyReLU(alpha = 0.1), kernel_regularizer = regularizers.l2(1e-4)))\n",
        "model2.add(Dense(units=1))\n",
        "\n",
        "optimizer = Adam(learning_rate=3e-4)\n",
        "model2.compile(optimizer=optimizer, loss='mean_squared_error', metrics=['accuracy'])\n",
        "\n",
        "early_stopping = EarlyStopping(monitor='val_loss', patience=2)\n",
        "model_checkpoint = ModelCheckpoint('best_model.h5', save_best_only=True, monitor='val_loss')\n",
        "\n",
        "model2.summary()"
      ],
      "metadata": {
        "colab": {
          "base_uri": "https://localhost:8080/"
        },
        "id": "oxm47OyTxJhM",
        "outputId": "5d1c237a-c6b9-460a-9c82-29d1fb1d260d"
      },
      "execution_count": 20,
      "outputs": [
        {
          "output_type": "stream",
          "name": "stdout",
          "text": [
            "Model: \"sequential_3\"\n",
            "_________________________________________________________________\n",
            " Layer (type)                Output Shape              Param #   \n",
            "=================================================================\n",
            " lstm_12 (LSTM)              (None, 1, 96)             71040     \n",
            "                                                                 \n",
            " dropout_12 (Dropout)        (None, 1, 96)             0         \n",
            "                                                                 \n",
            " lstm_13 (LSTM)              (None, 1, 96)             74112     \n",
            "                                                                 \n",
            " dropout_13 (Dropout)        (None, 1, 96)             0         \n",
            "                                                                 \n",
            " lstm_14 (LSTM)              (None, 1, 96)             74112     \n",
            "                                                                 \n",
            " dropout_14 (Dropout)        (None, 1, 96)             0         \n",
            "                                                                 \n",
            " lstm_15 (LSTM)              (None, 96)                74112     \n",
            "                                                                 \n",
            " dropout_15 (Dropout)        (None, 96)                0         \n",
            "                                                                 \n",
            " dense_4 (Dense)             (None, 50)                4850      \n",
            "                                                                 \n",
            " dense_5 (Dense)             (None, 1)                 51        \n",
            "                                                                 \n",
            "=================================================================\n",
            "Total params: 298277 (1.14 MB)\n",
            "Trainable params: 298277 (1.14 MB)\n",
            "Non-trainable params: 0 (0.00 Byte)\n",
            "_________________________________________________________________\n"
          ]
        }
      ]
    },
    {
      "cell_type": "code",
      "source": [
        "history2 = model2.fit(X_train, y_train, epochs=10, batch_size=64, validation_data=(X_valid, y_valid), verbose=1)"
      ],
      "metadata": {
        "colab": {
          "base_uri": "https://localhost:8080/"
        },
        "id": "AQYxCj6SxWos",
        "outputId": "1084feb8-9dbf-4ed3-8e4c-41428cde9b4b"
      },
      "execution_count": 21,
      "outputs": [
        {
          "output_type": "stream",
          "name": "stdout",
          "text": [
            "Epoch 1/10\n",
            "37512/37512 [==============================] - 417s 11ms/step - loss: 4.0697e-05 - accuracy: 0.3129 - val_loss: 1.4560e-06 - val_accuracy: 0.3130\n",
            "Epoch 2/10\n",
            "37512/37512 [==============================] - 407s 11ms/step - loss: 2.3678e-06 - accuracy: 0.3129 - val_loss: 1.0255e-06 - val_accuracy: 0.3130\n",
            "Epoch 3/10\n",
            "37512/37512 [==============================] - 423s 11ms/step - loss: 2.1026e-06 - accuracy: 0.3129 - val_loss: 1.1973e-06 - val_accuracy: 0.3130\n",
            "Epoch 4/10\n",
            "37512/37512 [==============================] - 405s 11ms/step - loss: 1.9567e-06 - accuracy: 0.3129 - val_loss: 1.0583e-06 - val_accuracy: 0.3130\n",
            "Epoch 5/10\n",
            "37512/37512 [==============================] - 384s 10ms/step - loss: 1.7604e-06 - accuracy: 0.3129 - val_loss: 1.6764e-06 - val_accuracy: 0.3130\n",
            "Epoch 6/10\n",
            "37512/37512 [==============================] - 371s 10ms/step - loss: 1.7085e-06 - accuracy: 0.3129 - val_loss: 9.6183e-07 - val_accuracy: 0.3130\n",
            "Epoch 7/10\n",
            "37512/37512 [==============================] - 382s 10ms/step - loss: 1.6744e-06 - accuracy: 0.3129 - val_loss: 8.5209e-07 - val_accuracy: 0.3130\n",
            "Epoch 8/10\n",
            "37512/37512 [==============================] - 384s 10ms/step - loss: 1.6064e-06 - accuracy: 0.3129 - val_loss: 1.3826e-06 - val_accuracy: 0.3130\n",
            "Epoch 9/10\n",
            "37512/37512 [==============================] - 385s 10ms/step - loss: 1.6655e-06 - accuracy: 0.3129 - val_loss: 9.2637e-07 - val_accuracy: 0.3130\n",
            "Epoch 10/10\n",
            "37512/37512 [==============================] - 378s 10ms/step - loss: 1.6998e-06 - accuracy: 0.3129 - val_loss: 7.4262e-07 - val_accuracy: 0.3130\n"
          ]
        }
      ]
    },
    {
      "cell_type": "code",
      "source": [
        "loss = history2.history['loss']\n",
        "epochs = range(len(loss))\n",
        "plt.plot(epochs, loss, 'r', label='Training loss')\n",
        "plt.title('Training loss', size=15, weight='bold')\n",
        "plt.legend(loc=0)\n",
        "plt.figure()\n",
        "plt.show()"
      ],
      "metadata": {
        "colab": {
          "base_uri": "https://localhost:8080/",
          "height": 472
        },
        "id": "97Q5aMqXAqY3",
        "outputId": "28cac4cb-6a5e-4adb-a946-8ddc3cbc7f2f"
      },
      "execution_count": 22,
      "outputs": [
        {
          "output_type": "display_data",
          "data": {
            "text/plain": [
              "<Figure size 640x480 with 1 Axes>"
            ],
            "image/png": "[encoded data removed]"
          },
          "metadata": {}
        },
        {
          "output_type": "display_data",
          "data": {
            "text/plain": [
              "<Figure size 640x480 with 0 Axes>"
            ]
          },
          "metadata": {}
        }
      ]
    },
    {
      "cell_type": "markdown",
      "source": [
        "*After the final epoch of training, the model achieved a loss of 1.2140e-06 on the training data and a validation loss of 6.4021e-07. This indicates that the model has performed well in minimizing the difference between its predictions and the actual values during training.*"
      ],
      "metadata": {
        "id": "OXVF6see_wVB"
      }
    },
    {
      "cell_type": "code",
      "source": [
        "lstm_preds = model2.predict(X_valid)"
      ],
      "metadata": {
        "colab": {
          "base_uri": "https://localhost:8080/"
        },
        "id": "IY9zFu22AJJY",
        "outputId": "288a0326-01c3-4b1e-af87-6a0f616c04a0"
      },
      "execution_count": 23,
      "outputs": [
        {
          "output_type": "stream",
          "name": "stdout",
          "text": [
            "18756/18756 [==============================] - 65s 3ms/step\n"
          ]
        }
      ]
    },
    {
      "cell_type": "code",
      "source": [
        "min_max_scaler = MinMaxScaler(feature_range=(0, 196))\n",
        "lstm_preds = min_max_scaler.fit_transform(lstm_preds)\n",
        "lstm_preds"
      ],
      "metadata": {
        "colab": {
          "base_uri": "https://localhost:8080/"
        },
        "id": "UOeWNBCF_8_Z",
        "outputId": "b057eeab-5878-4fea-a2fd-d46d80fc4dd2"
      },
      "execution_count": 24,
      "outputs": [
        {
          "output_type": "execute_result",
          "data": {
            "text/plain": [
              "array([[14.242931  ],\n",
              "       [ 0.11326315],\n",
              "       [ 1.866145  ],\n",
              "       ...,\n",
              "       [ 1.6314698 ],\n",
              "       [ 3.914689  ],\n",
              "       [ 7.795549  ]], dtype=float32)"
            ]
          },
          "metadata": {},
          "execution_count": 24
        }
      ]
    },
    {
      "cell_type": "code",
      "source": [
        "lstm_preds = np.log1p(lstm_preds)\n",
        "lstm_preds = np.exp(lstm_preds)"
      ],
      "metadata": {
        "id": "Vdz10ciTAlqH"
      },
      "execution_count": 25,
      "outputs": []
    },
    {
      "cell_type": "code",
      "source": [
        "lstm_preds_flat = lstm_preds.flatten()\n",
        "y_valid_flat = y_valid.flatten()\n",
        "rmsle = np.sqrt(mean_squared_log_error(y_valid_flat, lstm_preds_flat))\n",
        "print(\"LSTM RMSLE:\", rmsle)"
      ],
      "metadata": {
        "colab": {
          "base_uri": "https://localhost:8080/"
        },
        "id": "-DxmHdAqBDxA",
        "outputId": "33ce4756-13b9-4ebd-924a-452c1841ee4f"
      },
      "execution_count": 26,
      "outputs": [
        {
          "output_type": "stream",
          "name": "stdout",
          "text": [
            "LSTM RMSLE: 1.228146824108779\n"
          ]
        }
      ]
    },
    {
      "cell_type": "markdown",
      "source": [
        "***5. Conclusions***"
      ],
      "metadata": {
        "id": "sL94TNwEe1aS"
      }
    },
    {
      "cell_type": "code",
      "source": [
        "for name in test_data.select_dtypes(\"number\"):\n",
        "        test_data[name] = test_data[name].fillna(test_data[name].median())\n",
        "\n",
        "for name in test_data.select_dtypes(\"object\"):\n",
        "        test_data[name] = test_data[name].fillna(\"None\")\n",
        "test_data = test_data.drop('date', axis=1)\n",
        "cat = ['store_nbr', 'family']\n",
        "test = pd.get_dummies(test_data, columns=cat, drop_first=True)"
      ],
      "metadata": {
        "id": "xAPjXtHLC7nl"
      },
      "execution_count": 35,
      "outputs": []
    },
    {
      "cell_type": "code",
      "source": [
        "test['sales'] = 0\n",
        "\n",
        "X_test = test[features].values\n",
        "X_test = scaler.transform(X_test)\n",
        "X_test = X_test.reshape(X_test.shape[0], X_test.shape[1], 1)\n",
        "predictions = model2.predict(X_test)\n",
        "predictions"
      ],
      "metadata": {
        "colab": {
          "base_uri": "https://localhost:8080/"
        },
        "id": "6w3Kay7sCG_W",
        "outputId": "47cc7108-b37e-41e2-b89a-d0d7e36281ef"
      },
      "execution_count": 36,
      "outputs": [
        {
          "output_type": "stream",
          "name": "stdout",
          "text": [
            "891/891 [==============================] - 9s 9ms/step\n"
          ]
        },
        {
          "output_type": "execute_result",
          "data": {
            "text/plain": [
              "array([[0.05895219],\n",
              "       [0.1523044 ],\n",
              "       [0.15246741],\n",
              "       ...,\n",
              "       [0.14809848],\n",
              "       [0.14923958],\n",
              "       [0.14740416]], dtype=float32)"
            ]
          },
          "metadata": {},
          "execution_count": 36
        }
      ]
    },
    {
      "cell_type": "code",
      "source": [
        "from sklearn.preprocessing import MinMaxScaler\n",
        "\n",
        "min_max_scaler = MinMaxScaler(feature_range=(0, 196))\n",
        "predictions_scaled = min_max_scaler.fit_transform(predictions)\n",
        "predictions_scaled = np.log1p(predictions_scaled)\n",
        "predictions_scaled = np.exp(predictions_scaled)\n",
        "predictions_scaled"
      ],
      "metadata": {
        "colab": {
          "base_uri": "https://localhost:8080/"
        },
        "id": "W4CMh0CPDVRh",
        "outputId": "be5b19e4-317f-42a9-a9ad-681dd0edb49d"
      },
      "execution_count": 37,
      "outputs": [
        {
          "output_type": "execute_result",
          "data": {
            "text/plain": [
              "array([[ 73.75757],\n",
              "       [188.5188 ],\n",
              "       [188.7192 ],\n",
              "       ...,\n",
              "       [183.3483 ],\n",
              "       [184.75108],\n",
              "       [182.49472]], dtype=float32)"
            ]
          },
          "metadata": {},
          "execution_count": 37
        }
      ]
    },
    {
      "cell_type": "code",
      "source": [
        "output = pd.DataFrame({'id': test.index, 'sales': predictions_scaled.flatten()})\n",
        "output = output.drop_duplicates(subset=['id'], keep='last')\n",
        "output['id'] = output['id'] + 3000888\n",
        "output = output.groupby('id')['sales'].mean().reset_index()\n",
        "output.to_csv('submission.csv', index=False)\n",
        "output"
      ],
      "metadata": {
        "colab": {
          "base_uri": "https://localhost:8080/",
          "height": 424
        },
        "id": "4XDiaC_mDauH",
        "outputId": "d8238e7b-ef05-4c3f-b1d3-e4011a0d03d2"
      },
      "execution_count": 38,
      "outputs": [
        {
          "output_type": "execute_result",
          "data": {
            "text/plain": [
              "            id       sales\n",
              "0      3000888   73.757568\n",
              "1      3000889  188.518799\n",
              "2      3000890  188.719193\n",
              "3      3000891  189.902267\n",
              "4      3000892  188.454895\n",
              "...        ...         ...\n",
              "28507  3029395  183.843445\n",
              "28508  3029396  183.374863\n",
              "28509  3029397  183.348297\n",
              "28510  3029398  184.751083\n",
              "28511  3029399  182.494720\n",
              "\n",
              "[28512 rows x 2 columns]"
            ],
            "text/html": [
              "\n",
              "  <div id=\"df-f45971c9-33de-4ecf-99cd-3232cba5c7ba\" class=\"colab-df-container\">\n",
              "    <div>\n",
              "<style scoped>\n",
              "    .dataframe tbody tr th:only-of-type {\n",
              "        vertical-align: middle;\n",
              "    }\n",
              "\n",
              "    .dataframe tbody tr th {\n",
              "        vertical-align: top;\n",
              "    }\n",
              "\n",
              "    .dataframe thead th {\n",
              "        text-align: right;\n",
              "    }\n",
              "</style>\n",
              "<table border=\"1\" class=\"dataframe\">\n",
              "  <thead>\n",
              "    <tr style=\"text-align: right;\">\n",
              "      <th></th>\n",
              "      <th>id</th>\n",
              "      <th>sales</th>\n",
              "    </tr>\n",
              "  </thead>\n",
              "  <tbody>\n",
              "    <tr>\n",
              "      <th>0</th>\n",
              "      <td>3000888</td>\n",
              "      <td>73.757568</td>\n",
              "    </tr>\n",
              "    <tr>\n",
              "      <th>1</th>\n",
              "      <td>3000889</td>\n",
              "      <td>188.518799</td>\n",
              "    </tr>\n",
              "    <tr>\n",
              "      <th>2</th>\n",
              "      <td>3000890</td>\n",
              "      <td>188.719193</td>\n",
              "    </tr>\n",
              "    <tr>\n",
              "      <th>3</th>\n",
              "      <td>3000891</td>\n",
              "      <td>189.902267</td>\n",
              "    </tr>\n",
              "    <tr>\n",
              "      <th>4</th>\n",
              "      <td>3000892</td>\n",
              "      <td>188.454895</td>\n",
              "    </tr>\n",
              "    <tr>\n",
              "      <th>...</th>\n",
              "      <td>...</td>\n",
              "      <td>...</td>\n",
              "    </tr>\n",
              "    <tr>\n",
              "      <th>28507</th>\n",
              "      <td>3029395</td>\n",
              "      <td>183.843445</td>\n",
              "    </tr>\n",
              "    <tr>\n",
              "      <th>28508</th>\n",
              "      <td>3029396</td>\n",
              "      <td>183.374863</td>\n",
              "    </tr>\n",
              "    <tr>\n",
              "      <th>28509</th>\n",
              "      <td>3029397</td>\n",
              "      <td>183.348297</td>\n",
              "    </tr>\n",
              "    <tr>\n",
              "      <th>28510</th>\n",
              "      <td>3029398</td>\n",
              "      <td>184.751083</td>\n",
              "    </tr>\n",
              "    <tr>\n",
              "      <th>28511</th>\n",
              "      <td>3029399</td>\n",
              "      <td>182.494720</td>\n",
              "    </tr>\n",
              "  </tbody>\n",
              "</table>\n",
              "<p>28512 rows × 2 columns</p>\n",
              "</div>\n",
              "    <div class=\"colab-df-buttons\">\n",
              "\n",
              "  <div class=\"colab-df-container\">\n",
              "    <button class=\"colab-df-convert\" onclick=\"convertToInteractive('df-f45971c9-33de-4ecf-99cd-3232cba5c7ba')\"\n",
              "            title=\"Convert this dataframe to an interactive table.\"\n",
              "            style=\"display:none;\">\n",
              "\n",
              "  <svg xmlns=\"http://www.w3.org/2000/svg\" height=\"24px\" viewBox=\"0 -960 960 960\">\n",
              "    <path d=\"M120-120v-720h720v720H120Zm60-500h600v-160H180v160Zm220 220h160v-160H400v160Zm0 220h160v-160H400v160ZM180-400h160v-160H180v160Zm440 0h160v-160H620v160ZM180-180h160v-160H180v160Zm440 0h160v-160H620v160Z\"/>\n",
              "  </svg>\n",
              "    </button>\n",
              "\n",
              "  <style>\n",
              "    .colab-df-container {\n",
              "      display:flex;\n",
              "      gap: 12px;\n",
              "    }\n",
              "\n",
              "    .colab-df-convert {\n",
              "      background-color: #E8F0FE;\n",
              "      border: none;\n",
              "      border-radius: 50%;\n",
              "      cursor: pointer;\n",
              "      display: none;\n",
              "      fill: #1967D2;\n",
              "      height: 32px;\n",
              "      padding: 0 0 0 0;\n",
              "      width: 32px;\n",
              "    }\n",
              "\n",
              "    .colab-df-convert:hover {\n",
              "      background-color: #E2EBFA;\n",
              "      box-shadow: 0px 1px 2px rgba(60, 64, 67, 0.3), 0px 1px 3px 1px rgba(60, 64, 67, 0.15);\n",
              "      fill: #174EA6;\n",
              "    }\n",
              "\n",
              "    .colab-df-buttons div {\n",
              "      margin-bottom: 4px;\n",
              "    }\n",
              "\n",
              "    [theme=dark] .colab-df-convert {\n",
              "      background-color: #3B4455;\n",
              "      fill: #D2E3FC;\n",
              "    }\n",
              "\n",
              "    [theme=dark] .colab-df-convert:hover {\n",
              "      background-color: #434B5C;\n",
              "      box-shadow: 0px 1px 3px 1px rgba(0, 0, 0, 0.15);\n",
              "      filter: drop-shadow(0px 1px 2px rgba(0, 0, 0, 0.3));\n",
              "      fill: #FFFFFF;\n",
              "    }\n",
              "  </style>\n",
              "\n",
              "    <script>\n",
              "      const buttonEl =\n",
              "        document.querySelector('#df-f45971c9-33de-4ecf-99cd-3232cba5c7ba button.colab-df-convert');\n",
              "      buttonEl.style.display =\n",
              "        google.colab.kernel.accessAllowed ? 'block' : 'none';\n",
              "\n",
              "      async function convertToInteractive(key) {\n",
              "        const element = document.querySelector('#df-f45971c9-33de-4ecf-99cd-3232cba5c7ba');\n",
              "        const dataTable =\n",
              "          await google.colab.kernel.invokeFunction('convertToInteractive',\n",
              "                                                    [key], {});\n",
              "        if (!dataTable) return;\n",
              "\n",
              "        const docLinkHtml = 'Like what you see? Visit the ' +\n",
              "          '<a target=\"_blank\" href=https://colab.research.google.com/notebooks/data_table.ipynb>data table notebook</a>'\n",
              "          + ' to learn more about interactive tables.';\n",
              "        element.innerHTML = '';\n",
              "        dataTable['output_type'] = 'display_data';\n",
              "        await google.colab.output.renderOutput(dataTable, element);\n",
              "        const docLink = document.createElement('div');\n",
              "        docLink.innerHTML = docLinkHtml;\n",
              "        element.appendChild(docLink);\n",
              "      }\n",
              "    </script>\n",
              "  </div>\n",
              "\n",
              "\n",
              "<div id=\"df-4d185dde-ab62-4e1c-9014-4853af657cae\">\n",
              "  <button class=\"colab-df-quickchart\" onclick=\"quickchart('df-4d185dde-ab62-4e1c-9014-4853af657cae')\"\n",
              "            title=\"Suggest charts\"\n",
              "            style=\"display:none;\">\n",
              "\n",
              "<svg xmlns=\"http://www.w3.org/2000/svg\" height=\"24px\"viewBox=\"0 0 24 24\"\n",
              "     width=\"24px\">\n",
              "    <g>\n",
              "        <path d=\"M19 3H5c-1.1 0-2 .9-2 2v14c0 1.1.9 2 2 2h14c1.1 0 2-.9 2-2V5c0-1.1-.9-2-2-2zM9 17H7v-7h2v7zm4 0h-2V7h2v10zm4 0h-2v-4h2v4z\"/>\n",
              "    </g>\n",
              "</svg>\n",
              "  </button>\n",
              "\n",
              "<style>\n",
              "  .colab-df-quickchart {\n",
              "      --bg-color: #E8F0FE;\n",
              "      --fill-color: #1967D2;\n",
              "      --hover-bg-color: #E2EBFA;\n",
              "      --hover-fill-color: #174EA6;\n",
              "      --disabled-fill-color: #AAA;\n",
              "      --disabled-bg-color: #DDD;\n",
              "  }\n",
              "\n",
              "  [theme=dark] .colab-df-quickchart {\n",
              "      --bg-color: #3B4455;\n",
              "      --fill-color: #D2E3FC;\n",
              "      --hover-bg-color: #434B5C;\n",
              "      --hover-fill-color: #FFFFFF;\n",
              "      --disabled-bg-color: #3B4455;\n",
              "      --disabled-fill-color: #666;\n",
              "  }\n",
              "\n",
              "  .colab-df-quickchart {\n",
              "    background-color: var(--bg-color);\n",
              "    border: none;\n",
              "    border-radius: 50%;\n",
              "    cursor: pointer;\n",
              "    display: none;\n",
              "    fill: var(--fill-color);\n",
              "    height: 32px;\n",
              "    padding: 0;\n",
              "    width: 32px;\n",
              "  }\n",
              "\n",
              "  .colab-df-quickchart:hover {\n",
              "    background-color: var(--hover-bg-color);\n",
              "    box-shadow: 0 1px 2px rgba(60, 64, 67, 0.3), 0 1px 3px 1px rgba(60, 64, 67, 0.15);\n",
              "    fill: var(--button-hover-fill-color);\n",
              "  }\n",
              "\n",
              "  .colab-df-quickchart-complete:disabled,\n",
              "  .colab-df-quickchart-complete:disabled:hover {\n",
              "    background-color: var(--disabled-bg-color);\n",
              "    fill: var(--disabled-fill-color);\n",
              "    box-shadow: none;\n",
              "  }\n",
              "\n",
              "  .colab-df-spinner {\n",
              "    border: 2px solid var(--fill-color);\n",
              "    border-color: transparent;\n",
              "    border-bottom-color: var(--fill-color);\n",
              "    animation:\n",
              "      spin 1s steps(1) infinite;\n",
              "  }\n",
              "\n",
              "  @keyframes spin {\n",
              "    0% {\n",
              "      border-color: transparent;\n",
              "      border-bottom-color: var(--fill-color);\n",
              "      border-left-color: var(--fill-color);\n",
              "    }\n",
              "    20% {\n",
              "      border-color: transparent;\n",
              "      border-left-color: var(--fill-color);\n",
              "      border-top-color: var(--fill-color);\n",
              "    }\n",
              "    30% {\n",
              "      border-color: transparent;\n",
              "      border-left-color: var(--fill-color);\n",
              "      border-top-color: var(--fill-color);\n",
              "      border-right-color: var(--fill-color);\n",
              "    }\n",
              "    40% {\n",
              "      border-color: transparent;\n",
              "      border-right-color: var(--fill-color);\n",
              "      border-top-color: var(--fill-color);\n",
              "    }\n",
              "    60% {\n",
              "      border-color: transparent;\n",
              "      border-right-color: var(--fill-color);\n",
              "    }\n",
              "    80% {\n",
              "      border-color: transparent;\n",
              "      border-right-color: var(--fill-color);\n",
              "      border-bottom-color: var(--fill-color);\n",
              "    }\n",
              "    90% {\n",
              "      border-color: transparent;\n",
              "      border-bottom-color: var(--fill-color);\n",
              "    }\n",
              "  }\n",
              "</style>\n",
              "\n",
              "  <script>\n",
              "    async function quickchart(key) {\n",
              "      const quickchartButtonEl =\n",
              "        document.querySelector('#' + key + ' button');\n",
              "      quickchartButtonEl.disabled = true;  // To prevent multiple clicks.\n",
              "      quickchartButtonEl.classList.add('colab-df-spinner');\n",
              "      try {\n",
              "        const charts = await google.colab.kernel.invokeFunction(\n",
              "            'suggestCharts', [key], {});\n",
              "      } catch (error) {\n",
              "        console.error('Error during call to suggestCharts:', error);\n",
              "      }\n",
              "      quickchartButtonEl.classList.remove('colab-df-spinner');\n",
              "      quickchartButtonEl.classList.add('colab-df-quickchart-complete');\n",
              "    }\n",
              "    (() => {\n",
              "      let quickchartButtonEl =\n",
              "        document.querySelector('#df-4d185dde-ab62-4e1c-9014-4853af657cae button');\n",
              "      quickchartButtonEl.style.display =\n",
              "        google.colab.kernel.accessAllowed ? 'block' : 'none';\n",
              "    })();\n",
              "  </script>\n",
              "</div>\n",
              "\n",
              "  <div id=\"id_603bee93-013b-453e-bd5f-5749f384ddc7\">\n",
              "    <style>\n",
              "      .colab-df-generate {\n",
              "        background-color: #E8F0FE;\n",
              "        border: none;\n",
              "        border-radius: 50%;\n",
              "        cursor: pointer;\n",
              "        display: none;\n",
              "        fill: #1967D2;\n",
              "        height: 32px;\n",
              "        padding: 0 0 0 0;\n",
              "        width: 32px;\n",
              "      }\n",
              "\n",
              "      .colab-df-generate:hover {\n",
              "        background-color: #E2EBFA;\n",
              "        box-shadow: 0px 1px 2px rgba(60, 64, 67, 0.3), 0px 1px 3px 1px rgba(60, 64, 67, 0.15);\n",
              "        fill: #174EA6;\n",
              "      }\n",
              "\n",
              "      [theme=dark] .colab-df-generate {\n",
              "        background-color: #3B4455;\n",
              "        fill: #D2E3FC;\n",
              "      }\n",
              "\n",
              "      [theme=dark] .colab-df-generate:hover {\n",
              "        background-color: #434B5C;\n",
              "        box-shadow: 0px 1px 3px 1px rgba(0, 0, 0, 0.15);\n",
              "        filter: drop-shadow(0px 1px 2px rgba(0, 0, 0, 0.3));\n",
              "        fill: #FFFFFF;\n",
              "      }\n",
              "    </style>\n",
              "    <button class=\"colab-df-generate\" onclick=\"generateWithVariable('output')\"\n",
              "            title=\"Generate code using this dataframe.\"\n",
              "            style=\"display:none;\">\n",
              "\n",
              "  <svg xmlns=\"http://www.w3.org/2000/svg\" height=\"24px\"viewBox=\"0 0 24 24\"\n",
              "       width=\"24px\">\n",
              "    <path d=\"M7,19H8.4L18.45,9,17,7.55,7,17.6ZM5,21V16.75L18.45,3.32a2,2,0,0,1,2.83,0l1.4,1.43a1.91,1.91,0,0,1,.58,1.4,1.91,1.91,0,0,1-.58,1.4L9.25,21ZM18.45,9,17,7.55Zm-12,3A5.31,5.31,0,0,0,4.9,8.1,5.31,5.31,0,0,0,1,6.5,5.31,5.31,0,0,0,4.9,4.9,5.31,5.31,0,0,0,6.5,1,5.31,5.31,0,0,0,8.1,4.9,5.31,5.31,0,0,0,12,6.5,5.46,5.46,0,0,0,6.5,12Z\"/>\n",
              "  </svg>\n",
              "    </button>\n",
              "    <script>\n",
              "      (() => {\n",
              "      const buttonEl =\n",
              "        document.querySelector('#id_603bee93-013b-453e-bd5f-5749f384ddc7 button.colab-df-generate');\n",
              "      buttonEl.style.display =\n",
              "        google.colab.kernel.accessAllowed ? 'block' : 'none';\n",
              "\n",
              "      buttonEl.onclick = () => {\n",
              "        google.colab.notebook.generateWithVariable('output');\n",
              "      }\n",
              "      })();\n",
              "    </script>\n",
              "  </div>\n",
              "\n",
              "    </div>\n",
              "  </div>\n"
            ]
          },
          "metadata": {},
          "execution_count": 38
        }
      ]
    },
    {
      "cell_type": "code",
      "source": [
        "!pwd"
      ],
      "metadata": {
        "colab": {
          "base_uri": "https://localhost:8080/"
        },
        "id": "ZenCgikFDqBt",
        "outputId": "9c66d02f-1aff-43ec-ef16-794bce32b804"
      },
      "execution_count": null,
      "outputs": [
        {
          "output_type": "stream",
          "name": "stdout",
          "text": [
            "/content\n"
          ]
        }
      ]
    },
    {
      "cell_type": "markdown",
      "source": [
        "![6.png](data:image/png;base64,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)"
      ],
      "metadata": {
        "id": "yDrBjJ25F0OV"
      }
    },
    {
      "cell_type": "markdown",
      "source": [
        "*In conclusion, the high Root Mean Squared Logarithmic Error indicates that the predictive model is struggling to accurately capture data patterns. One of the key reasons for this is the presence of missing values and variance in important features.*\n",
        "\n",
        "*Upon analysis, it was found that crucial features such as holidays, transactions, oil, and store data have a significant number of missing values. This incomplete information could be contributing to the variability in predictions. The model may struggle to learn and identify patterns effectively due to these gaps in data.*\n",
        "\n",
        "*To address this issue, it's important to assess the model's robustness using techniques like cross-validation and ensemble methods. Additionally, tackling missing values in crucial features and refining the representation of influential variables can help in enhancing the model's accuracy. Regular evaluation, adjusting model parameters, and exploring new features or data sources are also essential for improving the predictive model and achieving better Root Mean Squared Logarithmic Error scores.*"
      ],
      "metadata": {
        "id": "agqMXpDn-aah"
      }
    }
  ],
  "metadata": {
    "kernelspec": {
      "display_name": "Python 3",
      "name": "python3"
    },
    "language_info": {
      "pygments_lexer": "ipython3",
      "nbconvert_exporter": "python",
      "version": "3.6.4",
      "file_extension": ".py",
      "codemirror_mode": {
        "name": "ipython",
        "version": 3
      },
      "name": "python",
      "mimetype": "text/x-python"
    },
    "colab": {
      "provenance": [],
      "gpuType": "T4",
      "include_colab_link": true
    },
    "accelerator": "GPU"
  },
  "nbformat": 4,
  "nbformat_minor": 0
}