{
  "cells": [
    {
      "cell_type": "markdown",
      "metadata": {
        "id": "view-in-github",
        "colab_type": "text"
      },
      "source": [
        "<a href=\"https://colab.research.google.com/github/po1itepeop1e/Sentiments-Analysis/blob/main/NLP%20Disaster%20Tweets.ipynb\" target=\"_parent\"><img src=\"https://colab.research.google.com/assets/colab-badge.svg\" alt=\"Open In Colab\"/></a>"
      ]
    },
    {
      "cell_type": "markdown",
      "source": [
        "**NLP Disaster Tweets**"
      ],
      "metadata": {
        "id": "QHr-s0R-lUSc"
      }
    },
    {
      "cell_type": "markdown",
      "source": [
        "*1. Brief description of the problem and data*"
      ],
      "metadata": {
        "id": "gkrToihlD-79"
      }
    },
    {
      "cell_type": "markdown",
      "source": [
        "*The project will focus on analyzing a dataset of 10,000 tweets from a Kaggle competition. These tweets have been manually classified as either related to real disasters or not. The main goal is to develop a machine learning model that can accurately classify the tweets as real disasters or non-disaster tweets based on the F1 score. This project has important implications for addressing the spread of misinformation and fake news, particularly on social media platforms like Twitter.*"
      ],
      "metadata": {
        "id": "_EcV6PlrPcu3"
      }
    },
    {
      "cell_type": "markdown",
      "source": [
        "*In times of crisis, Twitter has become a crucial communication platform due to the widespread use of smartphones. This has led to an increased interest in monitoring Twitter for emergency announcements by organizations such as disaster relief agencies and news outlets. The competition involves building a machine learning model to differentiate between tweets about real disasters and those that are not. Participants will work with a dataset of 10,000 hand-classified tweets and submissions will be evaluated based on the F1 score comparing predicted and expected results.*"
      ],
      "metadata": {
        "id": "Qz5fN3L6P_ie"
      }
    },
    {
      "source": [
        "\n",
        "# IMPORTANT: RUN THIS CELL IN ORDER TO IMPORT YOUR KAGGLE DATA SOURCES\n",
        "# TO THE CORRECT LOCATION (/kaggle/input) IN YOUR NOTEBOOK,\n",
        "# THEN FEEL FREE TO DELETE THIS CELL.\n",
        "# NOTE: THIS NOTEBOOK ENVIRONMENT DIFFERS FROM KAGGLE'S PYTHON\n",
        "# ENVIRONMENT SO THERE MAY BE MISSING LIBRARIES USED BY YOUR\n",
        "# NOTEBOOK.\n",
        "\n",
        "import os\n",
        "import sys\n",
        "from tempfile import NamedTemporaryFile\n",
        "from urllib.request import urlopen\n",
        "from urllib.parse import unquote, urlparse\n",
        "from urllib.error import HTTPError\n",
        "from zipfile import ZipFile\n",
        "import tarfile\n",
        "import shutil\n",
        "\n",
        "CHUNK_SIZE = 40960\n",
        "DATA_SOURCE_MAPPING = 'nlp-getting-started:https%3A%2F%2Fstorage.googleapis.com%2Fkaggle-competitions-data%2Fkaggle-v2%2F17777%2F869809%2Fbundle%2Farchive.zip%3FX-Goog-Algorithm%3DGOOG4-RSA-SHA256%26X-Goog-Credential%3Dgcp-kaggle-com%2540kaggle-161607.iam.gserviceaccount.com%252F20240130%252Fauto%252Fstorage%252Fgoog4_request%26X-Goog-Date%3D20240130T154506Z%26X-Goog-Expires%3D259200%26X-Goog-SignedHeaders%3Dhost%26X-Goog-Signature%3D54941385b59af9072f83908def6ca53e381cb58f9d9d11f7dab509156302b3cbaf974d845477e3ab550d5daa6aef2383e899295d98820dd4a2d4459f4c116dae3b4bd3c453e1cd46904ed48b003c8954e005dd010c2348da8a791b7e2e0a42804ee18177bd0ccc7649bbc0148108ab3bf1612769b2397517fb4e414bb94b75c1208f21f9b0ea189bf5f0aa0df4e17f2f495710ff2ffb964112e3e05a3dff6544c5f3e60d560aff492e16ead2aa1a2f35424327cbbe80cf1ed397ea54f5c2a3e1f6e457d1992b27518b5fbd214f42dc181b03c4e51a24028e6adcaaa7214bd244d1b04c040f3951c5218c4ee8767064078991f6f3154c093cf184650f2f439a05'\n",
        "\n",
        "KAGGLE_INPUT_PATH='/kaggle/input'\n",
        "KAGGLE_WORKING_PATH='/kaggle/working'\n",
        "KAGGLE_SYMLINK='kaggle'\n",
        "\n",
        "!umount /kaggle/input/ 2> /dev/null\n",
        "shutil.rmtree('/kaggle/input', ignore_errors=True)\n",
        "os.makedirs(KAGGLE_INPUT_PATH, 0o777, exist_ok=True)\n",
        "os.makedirs(KAGGLE_WORKING_PATH, 0o777, exist_ok=True)\n",
        "\n",
        "try:\n",
        "  os.symlink(KAGGLE_INPUT_PATH, os.path.join(\"..\", 'input'), target_is_directory=True)\n",
        "except FileExistsError:\n",
        "  pass\n",
        "try:\n",
        "  os.symlink(KAGGLE_WORKING_PATH, os.path.join(\"..\", 'working'), target_is_directory=True)\n",
        "except FileExistsError:\n",
        "  pass\n",
        "\n",
        "for data_source_mapping in DATA_SOURCE_MAPPING.split(','):\n",
        "    directory, download_url_encoded = data_source_mapping.split(':')\n",
        "    download_url = unquote(download_url_encoded)\n",
        "    filename = urlparse(download_url).path\n",
        "    destination_path = os.path.join(KAGGLE_INPUT_PATH, directory)\n",
        "    try:\n",
        "        with urlopen(download_url) as fileres, NamedTemporaryFile() as tfile:\n",
        "            total_length = fileres.headers['content-length']\n",
        "            print(f'Downloading {directory}, {total_length} bytes compressed')\n",
        "            dl = 0\n",
        "            data = fileres.read(CHUNK_SIZE)\n",
        "            while len(data) > 0:\n",
        "                dl += len(data)\n",
        "                tfile.write(data)\n",
        "                done = int(50 * dl / int(total_length))\n",
        "                sys.stdout.write(f\"\\r[{'=' * done}{' ' * (50-done)}] {dl} bytes downloaded\")\n",
        "                sys.stdout.flush()\n",
        "                data = fileres.read(CHUNK_SIZE)\n",
        "            if filename.endswith('.zip'):\n",
        "              with ZipFile(tfile) as zfile:\n",
        "                zfile.extractall(destination_path)\n",
        "            else:\n",
        "              with tarfile.open(tfile.name) as tarfile:\n",
        "                tarfile.extractall(destination_path)\n",
        "            print(f'\\nDownloaded and uncompressed: {directory}')\n",
        "    except HTTPError as e:\n",
        "        print(f'Failed to load (likely expired) {download_url} to path {destination_path}')\n",
        "        continue\n",
        "    except OSError as e:\n",
        "        print(f'Failed to load {download_url} to path {destination_path}')\n",
        "        continue\n",
        "\n",
        "print('Data source import complete.')\n"
      ],
      "metadata": {
        "colab": {
          "base_uri": "https://localhost:8080/"
        },
        "id": "lw5XgyXMC9vu",
        "outputId": "7fb4d6fb-770b-4b67-ffeb-6e3fadea27f5"
      },
      "cell_type": "code",
      "outputs": [
        {
          "output_type": "stream",
          "name": "stdout",
          "text": [
            "Downloading nlp-getting-started, 607343 bytes compressed\n",
            "[==================================================] 607343 bytes downloaded\n",
            "Downloaded and uncompressed: nlp-getting-started\n",
            "Data source import complete.\n"
          ]
        }
      ],
      "execution_count": 1
    },
    {
      "metadata": {
        "_uuid": "8f2839f25d086af736a60e9eeb907d3b93b6e0e5",
        "_cell_guid": "b1076dfc-b9ad-4769-8c92-a6c4dae69d19",
        "trusted": true,
        "colab": {
          "base_uri": "https://localhost:8080/"
        },
        "id": "PNsbj4EMC9vy",
        "outputId": "c5ab6949-1080-460c-f2e4-c3127e397454"
      },
      "cell_type": "code",
      "source": [
        "# This Python 3 environment comes with many helpful analytics libraries installed\n",
        "# It is defined by the kaggle/python Docker image: https://github.com/kaggle/docker-python\n",
        "# For example, here's several helpful packages to load\n",
        "\n",
        "import numpy as np # linear algebra\n",
        "import pandas as pd # data processing, CSV file I/O (e.g. pd.read_csv)\n",
        "\n",
        "# Input data files are available in the read-only \"../input/\" directory\n",
        "# For example, running this (by clicking run or pressing Shift+Enter) will list all files under the input directory\n",
        "\n",
        "import os\n",
        "for dirname, _, filenames in os.walk('/kaggle/input'):\n",
        "    for filename in filenames:\n",
        "        print(os.path.join(dirname, filename))\n",
        "\n",
        "# You can write up to 20GB to the current directory (/kaggle/working/) that gets preserved as output when you create a version using \"Save & Run All\"\n",
        "# You can also write temporary files to /kaggle/temp/, but they won't be saved outside of the current session"
      ],
      "execution_count": 2,
      "outputs": [
        {
          "output_type": "stream",
          "name": "stdout",
          "text": [
            "/kaggle/input/nlp-getting-started/train.csv\n",
            "/kaggle/input/nlp-getting-started/test.csv\n",
            "/kaggle/input/nlp-getting-started/sample_submission.csv\n"
          ]
        }
      ]
    },
    {
      "cell_type": "code",
      "source": [
        "import numpy as np\n",
        "import pandas as pd\n",
        "import os\n",
        "import random\n",
        "from PIL import Image\n",
        "import matplotlib.pyplot as plt\n",
        "from sklearn.model_selection import train_test_split\n",
        "import tensorflow as tf\n",
        "from tensorflow.keras.preprocessing.image import ImageDataGenerator\n",
        "from tensorflow.keras.layers import BatchNormalization, RandomFlip, RandomZoom, RandomRotation, Conv2D, MaxPooling2D, AveragePooling2D, Dense, Flatten, Dropout, Activation\n",
        "from tensorflow.keras.models import Sequential\n",
        "from tensorflow.keras.optimizers import Adam"
      ],
      "metadata": {
        "id": "pqE2RprBD-Vl"
      },
      "execution_count": 3,
      "outputs": []
    },
    {
      "cell_type": "code",
      "source": [
        "from PIL import ImageDraw"
      ],
      "metadata": {
        "id": "rdbneFV_E-n6"
      },
      "execution_count": 30,
      "outputs": []
    },
    {
      "cell_type": "code",
      "source": [
        "os.listdir('/kaggle/input/nlp-getting-started/')"
      ],
      "metadata": {
        "colab": {
          "base_uri": "https://localhost:8080/"
        },
        "id": "7GBoGfCXEJhU",
        "outputId": "e26270ad-c097-4f45-e17e-b523cca67558"
      },
      "execution_count": 4,
      "outputs": [
        {
          "output_type": "execute_result",
          "data": {
            "text/plain": [
              "['train.csv', 'test.csv', 'sample_submission.csv']"
            ]
          },
          "metadata": {},
          "execution_count": 4
        }
      ]
    },
    {
      "cell_type": "code",
      "source": [
        "train_data = pd.read_csv('/kaggle/input/nlp-getting-started/train.csv')"
      ],
      "metadata": {
        "id": "Ut2tn9jVEbdl"
      },
      "execution_count": 6,
      "outputs": []
    },
    {
      "cell_type": "markdown",
      "source": [
        "*2. Exploratory Data Analysis (EDA)*"
      ],
      "metadata": {
        "id": "6Cxh_Ts0E9VT"
      }
    },
    {
      "cell_type": "markdown",
      "source": [
        "Inspect"
      ],
      "metadata": {
        "id": "2fGIE64JLsix"
      }
    },
    {
      "cell_type": "code",
      "source": [
        "train_data.info()"
      ],
      "metadata": {
        "colab": {
          "base_uri": "https://localhost:8080/"
        },
        "id": "c1zwu7eJEwWF",
        "outputId": "ddf23729-0b23-40ce-96db-f145d6b954da"
      },
      "execution_count": 8,
      "outputs": [
        {
          "output_type": "stream",
          "name": "stdout",
          "text": [
            "<class 'pandas.core.frame.DataFrame'>\n",
            "RangeIndex: 7613 entries, 0 to 7612\n",
            "Data columns (total 5 columns):\n",
            " #   Column    Non-Null Count  Dtype \n",
            "---  ------    --------------  ----- \n",
            " 0   id        7613 non-null   int64 \n",
            " 1   keyword   7552 non-null   object\n",
            " 2   location  5080 non-null   object\n",
            " 3   text      7613 non-null   object\n",
            " 4   target    7613 non-null   int64 \n",
            "dtypes: int64(2), object(3)\n",
            "memory usage: 297.5+ KB\n"
          ]
        }
      ]
    },
    {
      "cell_type": "markdown",
      "source": [
        "The dataset contains 7613 entries with the following columns:\n",
        "\n",
        "*id: A unique identifier for each tweet.\n",
        "keyword: A specific keyword mentioned in the tweet (may be blank).\n",
        "location: The location from which the tweet was sent (may be blank).\n",
        "text: The actual text of the tweet.\n",
        "target: The value we are trying to predict, indicating whether the tweet is about a real disaster (1) or not (0).*"
      ],
      "metadata": {
        "id": "aTbdTtixQoLf"
      }
    },
    {
      "cell_type": "code",
      "source": [
        "train_data.describe()"
      ],
      "metadata": {
        "colab": {
          "base_uri": "https://localhost:8080/",
          "height": 300
        },
        "id": "WNq0LmbtE078",
        "outputId": "444a01f9-4561-49fc-a3af-bc4153b9bf35"
      },
      "execution_count": 9,
      "outputs": [
        {
          "output_type": "execute_result",
          "data": {
            "text/plain": [
              "                 id      target\n",
              "count   7613.000000  7613.00000\n",
              "mean    5441.934848     0.42966\n",
              "std     3137.116090     0.49506\n",
              "min        1.000000     0.00000\n",
              "25%     2734.000000     0.00000\n",
              "50%     5408.000000     0.00000\n",
              "75%     8146.000000     1.00000\n",
              "max    10873.000000     1.00000"
            ],
            "text/html": [
              "\n",
              "  <div id=\"df-06df40ef-b757-4931-a303-fcafc18e9ccd\" class=\"colab-df-container\">\n",
              "    <div>\n",
              "<style scoped>\n",
              "    .dataframe tbody tr th:only-of-type {\n",
              "        vertical-align: middle;\n",
              "    }\n",
              "\n",
              "    .dataframe tbody tr th {\n",
              "        vertical-align: top;\n",
              "    }\n",
              "\n",
              "    .dataframe thead th {\n",
              "        text-align: right;\n",
              "    }\n",
              "</style>\n",
              "<table border=\"1\" class=\"dataframe\">\n",
              "  <thead>\n",
              "    <tr style=\"text-align: right;\">\n",
              "      <th></th>\n",
              "      <th>id</th>\n",
              "      <th>target</th>\n",
              "    </tr>\n",
              "  </thead>\n",
              "  <tbody>\n",
              "    <tr>\n",
              "      <th>count</th>\n",
              "      <td>7613.000000</td>\n",
              "      <td>7613.00000</td>\n",
              "    </tr>\n",
              "    <tr>\n",
              "      <th>mean</th>\n",
              "      <td>5441.934848</td>\n",
              "      <td>0.42966</td>\n",
              "    </tr>\n",
              "    <tr>\n",
              "      <th>std</th>\n",
              "      <td>3137.116090</td>\n",
              "      <td>0.49506</td>\n",
              "    </tr>\n",
              "    <tr>\n",
              "      <th>min</th>\n",
              "      <td>1.000000</td>\n",
              "      <td>0.00000</td>\n",
              "    </tr>\n",
              "    <tr>\n",
              "      <th>25%</th>\n",
              "      <td>2734.000000</td>\n",
              "      <td>0.00000</td>\n",
              "    </tr>\n",
              "    <tr>\n",
              "      <th>50%</th>\n",
              "      <td>5408.000000</td>\n",
              "      <td>0.00000</td>\n",
              "    </tr>\n",
              "    <tr>\n",
              "      <th>75%</th>\n",
              "      <td>8146.000000</td>\n",
              "      <td>1.00000</td>\n",
              "    </tr>\n",
              "    <tr>\n",
              "      <th>max</th>\n",
              "      <td>10873.000000</td>\n",
              "      <td>1.00000</td>\n",
              "    </tr>\n",
              "  </tbody>\n",
              "</table>\n",
              "</div>\n",
              "    <div class=\"colab-df-buttons\">\n",
              "\n",
              "  <div class=\"colab-df-container\">\n",
              "    <button class=\"colab-df-convert\" onclick=\"convertToInteractive('df-06df40ef-b757-4931-a303-fcafc18e9ccd')\"\n",
              "            title=\"Convert this dataframe to an interactive table.\"\n",
              "            style=\"display:none;\">\n",
              "\n",
              "  <svg xmlns=\"http://www.w3.org/2000/svg\" height=\"24px\" viewBox=\"0 -960 960 960\">\n",
              "    <path d=\"M120-120v-720h720v720H120Zm60-500h600v-160H180v160Zm220 220h160v-160H400v160Zm0 220h160v-160H400v160ZM180-400h160v-160H180v160Zm440 0h160v-160H620v160ZM180-180h160v-160H180v160Zm440 0h160v-160H620v160Z\"/>\n",
              "  </svg>\n",
              "    </button>\n",
              "\n",
              "  <style>\n",
              "    .colab-df-container {\n",
              "      display:flex;\n",
              "      gap: 12px;\n",
              "    }\n",
              "\n",
              "    .colab-df-convert {\n",
              "      background-color: #E8F0FE;\n",
              "      border: none;\n",
              "      border-radius: 50%;\n",
              "      cursor: pointer;\n",
              "      display: none;\n",
              "      fill: #1967D2;\n",
              "      height: 32px;\n",
              "      padding: 0 0 0 0;\n",
              "      width: 32px;\n",
              "    }\n",
              "\n",
              "    .colab-df-convert:hover {\n",
              "      background-color: #E2EBFA;\n",
              "      box-shadow: 0px 1px 2px rgba(60, 64, 67, 0.3), 0px 1px 3px 1px rgba(60, 64, 67, 0.15);\n",
              "      fill: #174EA6;\n",
              "    }\n",
              "\n",
              "    .colab-df-buttons div {\n",
              "      margin-bottom: 4px;\n",
              "    }\n",
              "\n",
              "    [theme=dark] .colab-df-convert {\n",
              "      background-color: #3B4455;\n",
              "      fill: #D2E3FC;\n",
              "    }\n",
              "\n",
              "    [theme=dark] .colab-df-convert:hover {\n",
              "      background-color: #434B5C;\n",
              "      box-shadow: 0px 1px 3px 1px rgba(0, 0, 0, 0.15);\n",
              "      filter: drop-shadow(0px 1px 2px rgba(0, 0, 0, 0.3));\n",
              "      fill: #FFFFFF;\n",
              "    }\n",
              "  </style>\n",
              "\n",
              "    <script>\n",
              "      const buttonEl =\n",
              "        document.querySelector('#df-06df40ef-b757-4931-a303-fcafc18e9ccd button.colab-df-convert');\n",
              "      buttonEl.style.display =\n",
              "        google.colab.kernel.accessAllowed ? 'block' : 'none';\n",
              "\n",
              "      async function convertToInteractive(key) {\n",
              "        const element = document.querySelector('#df-06df40ef-b757-4931-a303-fcafc18e9ccd');\n",
              "        const dataTable =\n",
              "          await google.colab.kernel.invokeFunction('convertToInteractive',\n",
              "                                                    [key], {});\n",
              "        if (!dataTable) return;\n",
              "\n",
              "        const docLinkHtml = 'Like what you see? Visit the ' +\n",
              "          '<a target=\"_blank\" href=https://colab.research.google.com/notebooks/data_table.ipynb>data table notebook</a>'\n",
              "          + ' to learn more about interactive tables.';\n",
              "        element.innerHTML = '';\n",
              "        dataTable['output_type'] = 'display_data';\n",
              "        await google.colab.output.renderOutput(dataTable, element);\n",
              "        const docLink = document.createElement('div');\n",
              "        docLink.innerHTML = docLinkHtml;\n",
              "        element.appendChild(docLink);\n",
              "      }\n",
              "    </script>\n",
              "  </div>\n",
              "\n",
              "\n",
              "<div id=\"df-f4001e18-f283-4e8b-94b1-2fead9a520d5\">\n",
              "  <button class=\"colab-df-quickchart\" onclick=\"quickchart('df-f4001e18-f283-4e8b-94b1-2fead9a520d5')\"\n",
              "            title=\"Suggest charts\"\n",
              "            style=\"display:none;\">\n",
              "\n",
              "<svg xmlns=\"http://www.w3.org/2000/svg\" height=\"24px\"viewBox=\"0 0 24 24\"\n",
              "     width=\"24px\">\n",
              "    <g>\n",
              "        <path d=\"M19 3H5c-1.1 0-2 .9-2 2v14c0 1.1.9 2 2 2h14c1.1 0 2-.9 2-2V5c0-1.1-.9-2-2-2zM9 17H7v-7h2v7zm4 0h-2V7h2v10zm4 0h-2v-4h2v4z\"/>\n",
              "    </g>\n",
              "</svg>\n",
              "  </button>\n",
              "\n",
              "<style>\n",
              "  .colab-df-quickchart {\n",
              "      --bg-color: #E8F0FE;\n",
              "      --fill-color: #1967D2;\n",
              "      --hover-bg-color: #E2EBFA;\n",
              "      --hover-fill-color: #174EA6;\n",
              "      --disabled-fill-color: #AAA;\n",
              "      --disabled-bg-color: #DDD;\n",
              "  }\n",
              "\n",
              "  [theme=dark] .colab-df-quickchart {\n",
              "      --bg-color: #3B4455;\n",
              "      --fill-color: #D2E3FC;\n",
              "      --hover-bg-color: #434B5C;\n",
              "      --hover-fill-color: #FFFFFF;\n",
              "      --disabled-bg-color: #3B4455;\n",
              "      --disabled-fill-color: #666;\n",
              "  }\n",
              "\n",
              "  .colab-df-quickchart {\n",
              "    background-color: var(--bg-color);\n",
              "    border: none;\n",
              "    border-radius: 50%;\n",
              "    cursor: pointer;\n",
              "    display: none;\n",
              "    fill: var(--fill-color);\n",
              "    height: 32px;\n",
              "    padding: 0;\n",
              "    width: 32px;\n",
              "  }\n",
              "\n",
              "  .colab-df-quickchart:hover {\n",
              "    background-color: var(--hover-bg-color);\n",
              "    box-shadow: 0 1px 2px rgba(60, 64, 67, 0.3), 0 1px 3px 1px rgba(60, 64, 67, 0.15);\n",
              "    fill: var(--button-hover-fill-color);\n",
              "  }\n",
              "\n",
              "  .colab-df-quickchart-complete:disabled,\n",
              "  .colab-df-quickchart-complete:disabled:hover {\n",
              "    background-color: var(--disabled-bg-color);\n",
              "    fill: var(--disabled-fill-color);\n",
              "    box-shadow: none;\n",
              "  }\n",
              "\n",
              "  .colab-df-spinner {\n",
              "    border: 2px solid var(--fill-color);\n",
              "    border-color: transparent;\n",
              "    border-bottom-color: var(--fill-color);\n",
              "    animation:\n",
              "      spin 1s steps(1) infinite;\n",
              "  }\n",
              "\n",
              "  @keyframes spin {\n",
              "    0% {\n",
              "      border-color: transparent;\n",
              "      border-bottom-color: var(--fill-color);\n",
              "      border-left-color: var(--fill-color);\n",
              "    }\n",
              "    20% {\n",
              "      border-color: transparent;\n",
              "      border-left-color: var(--fill-color);\n",
              "      border-top-color: var(--fill-color);\n",
              "    }\n",
              "    30% {\n",
              "      border-color: transparent;\n",
              "      border-left-color: var(--fill-color);\n",
              "      border-top-color: var(--fill-color);\n",
              "      border-right-color: var(--fill-color);\n",
              "    }\n",
              "    40% {\n",
              "      border-color: transparent;\n",
              "      border-right-color: var(--fill-color);\n",
              "      border-top-color: var(--fill-color);\n",
              "    }\n",
              "    60% {\n",
              "      border-color: transparent;\n",
              "      border-right-color: var(--fill-color);\n",
              "    }\n",
              "    80% {\n",
              "      border-color: transparent;\n",
              "      border-right-color: var(--fill-color);\n",
              "      border-bottom-color: var(--fill-color);\n",
              "    }\n",
              "    90% {\n",
              "      border-color: transparent;\n",
              "      border-bottom-color: var(--fill-color);\n",
              "    }\n",
              "  }\n",
              "</style>\n",
              "\n",
              "  <script>\n",
              "    async function quickchart(key) {\n",
              "      const quickchartButtonEl =\n",
              "        document.querySelector('#' + key + ' button');\n",
              "      quickchartButtonEl.disabled = true;  // To prevent multiple clicks.\n",
              "      quickchartButtonEl.classList.add('colab-df-spinner');\n",
              "      try {\n",
              "        const charts = await google.colab.kernel.invokeFunction(\n",
              "            'suggestCharts', [key], {});\n",
              "      } catch (error) {\n",
              "        console.error('Error during call to suggestCharts:', error);\n",
              "      }\n",
              "      quickchartButtonEl.classList.remove('colab-df-spinner');\n",
              "      quickchartButtonEl.classList.add('colab-df-quickchart-complete');\n",
              "    }\n",
              "    (() => {\n",
              "      let quickchartButtonEl =\n",
              "        document.querySelector('#df-f4001e18-f283-4e8b-94b1-2fead9a520d5 button');\n",
              "      quickchartButtonEl.style.display =\n",
              "        google.colab.kernel.accessAllowed ? 'block' : 'none';\n",
              "    })();\n",
              "  </script>\n",
              "</div>\n",
              "\n",
              "    </div>\n",
              "  </div>\n"
            ]
          },
          "metadata": {},
          "execution_count": 9
        }
      ]
    },
    {
      "cell_type": "code",
      "source": [
        "train_data.head()"
      ],
      "metadata": {
        "colab": {
          "base_uri": "https://localhost:8080/",
          "height": 206
        },
        "id": "fgJisiq0E4ZR",
        "outputId": "8f6914db-9371-4207-ee0e-94b577f53a67"
      },
      "execution_count": 21,
      "outputs": [
        {
          "output_type": "execute_result",
          "data": {
            "text/plain": [
              "   id keyword location                                               text  \\\n",
              "0   1     NaN      NaN  Our Deeds are the Reason of this #earthquake M...   \n",
              "1   4     NaN      NaN             Forest fire near La Ronge Sask. Canada   \n",
              "2   5     NaN      NaN  All residents asked to 'shelter in place' are ...   \n",
              "3   6     NaN      NaN  13,000 people receive #wildfires evacuation or...   \n",
              "4   7     NaN      NaN  Just got sent this photo from Ruby #Alaska as ...   \n",
              "\n",
              "   target  \n",
              "0       1  \n",
              "1       1  \n",
              "2       1  \n",
              "3       1  \n",
              "4       1  "
            ],
            "text/html": [
              "\n",
              "  <div id=\"df-b1908872-c6ed-4dc7-b776-60ffd95c32c9\" class=\"colab-df-container\">\n",
              "    <div>\n",
              "<style scoped>\n",
              "    .dataframe tbody tr th:only-of-type {\n",
              "        vertical-align: middle;\n",
              "    }\n",
              "\n",
              "    .dataframe tbody tr th {\n",
              "        vertical-align: top;\n",
              "    }\n",
              "\n",
              "    .dataframe thead th {\n",
              "        text-align: right;\n",
              "    }\n",
              "</style>\n",
              "<table border=\"1\" class=\"dataframe\">\n",
              "  <thead>\n",
              "    <tr style=\"text-align: right;\">\n",
              "      <th></th>\n",
              "      <th>id</th>\n",
              "      <th>keyword</th>\n",
              "      <th>location</th>\n",
              "      <th>text</th>\n",
              "      <th>target</th>\n",
              "    </tr>\n",
              "  </thead>\n",
              "  <tbody>\n",
              "    <tr>\n",
              "      <th>0</th>\n",
              "      <td>1</td>\n",
              "      <td>NaN</td>\n",
              "      <td>NaN</td>\n",
              "      <td>Our Deeds are the Reason of this #earthquake M...</td>\n",
              "      <td>1</td>\n",
              "    </tr>\n",
              "    <tr>\n",
              "      <th>1</th>\n",
              "      <td>4</td>\n",
              "      <td>NaN</td>\n",
              "      <td>NaN</td>\n",
              "      <td>Forest fire near La Ronge Sask. Canada</td>\n",
              "      <td>1</td>\n",
              "    </tr>\n",
              "    <tr>\n",
              "      <th>2</th>\n",
              "      <td>5</td>\n",
              "      <td>NaN</td>\n",
              "      <td>NaN</td>\n",
              "      <td>All residents asked to 'shelter in place' are ...</td>\n",
              "      <td>1</td>\n",
              "    </tr>\n",
              "    <tr>\n",
              "      <th>3</th>\n",
              "      <td>6</td>\n",
              "      <td>NaN</td>\n",
              "      <td>NaN</td>\n",
              "      <td>13,000 people receive #wildfires evacuation or...</td>\n",
              "      <td>1</td>\n",
              "    </tr>\n",
              "    <tr>\n",
              "      <th>4</th>\n",
              "      <td>7</td>\n",
              "      <td>NaN</td>\n",
              "      <td>NaN</td>\n",
              "      <td>Just got sent this photo from Ruby #Alaska as ...</td>\n",
              "      <td>1</td>\n",
              "    </tr>\n",
              "  </tbody>\n",
              "</table>\n",
              "</div>\n",
              "    <div class=\"colab-df-buttons\">\n",
              "\n",
              "  <div class=\"colab-df-container\">\n",
              "    <button class=\"colab-df-convert\" onclick=\"convertToInteractive('df-b1908872-c6ed-4dc7-b776-60ffd95c32c9')\"\n",
              "            title=\"Convert this dataframe to an interactive table.\"\n",
              "            style=\"display:none;\">\n",
              "\n",
              "  <svg xmlns=\"http://www.w3.org/2000/svg\" height=\"24px\" viewBox=\"0 -960 960 960\">\n",
              "    <path d=\"M120-120v-720h720v720H120Zm60-500h600v-160H180v160Zm220 220h160v-160H400v160Zm0 220h160v-160H400v160ZM180-400h160v-160H180v160Zm440 0h160v-160H620v160ZM180-180h160v-160H180v160Zm440 0h160v-160H620v160Z\"/>\n",
              "  </svg>\n",
              "    </button>\n",
              "\n",
              "  <style>\n",
              "    .colab-df-container {\n",
              "      display:flex;\n",
              "      gap: 12px;\n",
              "    }\n",
              "\n",
              "    .colab-df-convert {\n",
              "      background-color: #E8F0FE;\n",
              "      border: none;\n",
              "      border-radius: 50%;\n",
              "      cursor: pointer;\n",
              "      display: none;\n",
              "      fill: #1967D2;\n",
              "      height: 32px;\n",
              "      padding: 0 0 0 0;\n",
              "      width: 32px;\n",
              "    }\n",
              "\n",
              "    .colab-df-convert:hover {\n",
              "      background-color: #E2EBFA;\n",
              "      box-shadow: 0px 1px 2px rgba(60, 64, 67, 0.3), 0px 1px 3px 1px rgba(60, 64, 67, 0.15);\n",
              "      fill: #174EA6;\n",
              "    }\n",
              "\n",
              "    .colab-df-buttons div {\n",
              "      margin-bottom: 4px;\n",
              "    }\n",
              "\n",
              "    [theme=dark] .colab-df-convert {\n",
              "      background-color: #3B4455;\n",
              "      fill: #D2E3FC;\n",
              "    }\n",
              "\n",
              "    [theme=dark] .colab-df-convert:hover {\n",
              "      background-color: #434B5C;\n",
              "      box-shadow: 0px 1px 3px 1px rgba(0, 0, 0, 0.15);\n",
              "      filter: drop-shadow(0px 1px 2px rgba(0, 0, 0, 0.3));\n",
              "      fill: #FFFFFF;\n",
              "    }\n",
              "  </style>\n",
              "\n",
              "    <script>\n",
              "      const buttonEl =\n",
              "        document.querySelector('#df-b1908872-c6ed-4dc7-b776-60ffd95c32c9 button.colab-df-convert');\n",
              "      buttonEl.style.display =\n",
              "        google.colab.kernel.accessAllowed ? 'block' : 'none';\n",
              "\n",
              "      async function convertToInteractive(key) {\n",
              "        const element = document.querySelector('#df-b1908872-c6ed-4dc7-b776-60ffd95c32c9');\n",
              "        const dataTable =\n",
              "          await google.colab.kernel.invokeFunction('convertToInteractive',\n",
              "                                                    [key], {});\n",
              "        if (!dataTable) return;\n",
              "\n",
              "        const docLinkHtml = 'Like what you see? Visit the ' +\n",
              "          '<a target=\"_blank\" href=https://colab.research.google.com/notebooks/data_table.ipynb>data table notebook</a>'\n",
              "          + ' to learn more about interactive tables.';\n",
              "        element.innerHTML = '';\n",
              "        dataTable['output_type'] = 'display_data';\n",
              "        await google.colab.output.renderOutput(dataTable, element);\n",
              "        const docLink = document.createElement('div');\n",
              "        docLink.innerHTML = docLinkHtml;\n",
              "        element.appendChild(docLink);\n",
              "      }\n",
              "    </script>\n",
              "  </div>\n",
              "\n",
              "\n",
              "<div id=\"df-1f57d34d-5b81-4f9f-9a0b-755208a3db96\">\n",
              "  <button class=\"colab-df-quickchart\" onclick=\"quickchart('df-1f57d34d-5b81-4f9f-9a0b-755208a3db96')\"\n",
              "            title=\"Suggest charts\"\n",
              "            style=\"display:none;\">\n",
              "\n",
              "<svg xmlns=\"http://www.w3.org/2000/svg\" height=\"24px\"viewBox=\"0 0 24 24\"\n",
              "     width=\"24px\">\n",
              "    <g>\n",
              "        <path d=\"M19 3H5c-1.1 0-2 .9-2 2v14c0 1.1.9 2 2 2h14c1.1 0 2-.9 2-2V5c0-1.1-.9-2-2-2zM9 17H7v-7h2v7zm4 0h-2V7h2v10zm4 0h-2v-4h2v4z\"/>\n",
              "    </g>\n",
              "</svg>\n",
              "  </button>\n",
              "\n",
              "<style>\n",
              "  .colab-df-quickchart {\n",
              "      --bg-color: #E8F0FE;\n",
              "      --fill-color: #1967D2;\n",
              "      --hover-bg-color: #E2EBFA;\n",
              "      --hover-fill-color: #174EA6;\n",
              "      --disabled-fill-color: #AAA;\n",
              "      --disabled-bg-color: #DDD;\n",
              "  }\n",
              "\n",
              "  [theme=dark] .colab-df-quickchart {\n",
              "      --bg-color: #3B4455;\n",
              "      --fill-color: #D2E3FC;\n",
              "      --hover-bg-color: #434B5C;\n",
              "      --hover-fill-color: #FFFFFF;\n",
              "      --disabled-bg-color: #3B4455;\n",
              "      --disabled-fill-color: #666;\n",
              "  }\n",
              "\n",
              "  .colab-df-quickchart {\n",
              "    background-color: var(--bg-color);\n",
              "    border: none;\n",
              "    border-radius: 50%;\n",
              "    cursor: pointer;\n",
              "    display: none;\n",
              "    fill: var(--fill-color);\n",
              "    height: 32px;\n",
              "    padding: 0;\n",
              "    width: 32px;\n",
              "  }\n",
              "\n",
              "  .colab-df-quickchart:hover {\n",
              "    background-color: var(--hover-bg-color);\n",
              "    box-shadow: 0 1px 2px rgba(60, 64, 67, 0.3), 0 1px 3px 1px rgba(60, 64, 67, 0.15);\n",
              "    fill: var(--button-hover-fill-color);\n",
              "  }\n",
              "\n",
              "  .colab-df-quickchart-complete:disabled,\n",
              "  .colab-df-quickchart-complete:disabled:hover {\n",
              "    background-color: var(--disabled-bg-color);\n",
              "    fill: var(--disabled-fill-color);\n",
              "    box-shadow: none;\n",
              "  }\n",
              "\n",
              "  .colab-df-spinner {\n",
              "    border: 2px solid var(--fill-color);\n",
              "    border-color: transparent;\n",
              "    border-bottom-color: var(--fill-color);\n",
              "    animation:\n",
              "      spin 1s steps(1) infinite;\n",
              "  }\n",
              "\n",
              "  @keyframes spin {\n",
              "    0% {\n",
              "      border-color: transparent;\n",
              "      border-bottom-color: var(--fill-color);\n",
              "      border-left-color: var(--fill-color);\n",
              "    }\n",
              "    20% {\n",
              "      border-color: transparent;\n",
              "      border-left-color: var(--fill-color);\n",
              "      border-top-color: var(--fill-color);\n",
              "    }\n",
              "    30% {\n",
              "      border-color: transparent;\n",
              "      border-left-color: var(--fill-color);\n",
              "      border-top-color: var(--fill-color);\n",
              "      border-right-color: var(--fill-color);\n",
              "    }\n",
              "    40% {\n",
              "      border-color: transparent;\n",
              "      border-right-color: var(--fill-color);\n",
              "      border-top-color: var(--fill-color);\n",
              "    }\n",
              "    60% {\n",
              "      border-color: transparent;\n",
              "      border-right-color: var(--fill-color);\n",
              "    }\n",
              "    80% {\n",
              "      border-color: transparent;\n",
              "      border-right-color: var(--fill-color);\n",
              "      border-bottom-color: var(--fill-color);\n",
              "    }\n",
              "    90% {\n",
              "      border-color: transparent;\n",
              "      border-bottom-color: var(--fill-color);\n",
              "    }\n",
              "  }\n",
              "</style>\n",
              "\n",
              "  <script>\n",
              "    async function quickchart(key) {\n",
              "      const quickchartButtonEl =\n",
              "        document.querySelector('#' + key + ' button');\n",
              "      quickchartButtonEl.disabled = true;  // To prevent multiple clicks.\n",
              "      quickchartButtonEl.classList.add('colab-df-spinner');\n",
              "      try {\n",
              "        const charts = await google.colab.kernel.invokeFunction(\n",
              "            'suggestCharts', [key], {});\n",
              "      } catch (error) {\n",
              "        console.error('Error during call to suggestCharts:', error);\n",
              "      }\n",
              "      quickchartButtonEl.classList.remove('colab-df-spinner');\n",
              "      quickchartButtonEl.classList.add('colab-df-quickchart-complete');\n",
              "    }\n",
              "    (() => {\n",
              "      let quickchartButtonEl =\n",
              "        document.querySelector('#df-1f57d34d-5b81-4f9f-9a0b-755208a3db96 button');\n",
              "      quickchartButtonEl.style.display =\n",
              "        google.colab.kernel.accessAllowed ? 'block' : 'none';\n",
              "    })();\n",
              "  </script>\n",
              "</div>\n",
              "\n",
              "    </div>\n",
              "  </div>\n"
            ]
          },
          "metadata": {},
          "execution_count": 21
        }
      ]
    },
    {
      "cell_type": "markdown",
      "source": [
        "Visualize"
      ],
      "metadata": {
        "id": "g0lCr7E8Lwo3"
      }
    },
    {
      "cell_type": "code",
      "source": [
        "sns.histplot(x=train_data[\"target\"])\n",
        "plt.title(\"Distribution of target values\")"
      ],
      "metadata": {
        "colab": {
          "base_uri": "https://localhost:8080/",
          "height": 490
        },
        "id": "IGIaOhJMIDqC",
        "outputId": "5eea4e56-65e4-4232-a91f-b011678767bf"
      },
      "execution_count": 25,
      "outputs": [
        {
          "output_type": "execute_result",
          "data": {
            "text/plain": [
              "Text(0.5, 1.0, 'Distribution of target values')"
            ]
          },
          "metadata": {},
          "execution_count": 25
        },
        {
          "output_type": "display_data",
          "data": {
            "text/plain": [
              "<Figure size 640x480 with 1 Axes>"
            ],
            "image/png": "[encoded data removed]"
          },
          "metadata": {}
        }
      ]
    },
    {
      "cell_type": "code",
      "source": [
        "keyword = train_data.groupby(\"keyword\")[\"target\"].count()\n",
        "keyword_df = pd.DataFrame(data={\"keyword\":keyword.index, \"count\":keyword.values}).sort_values(by=[\"count\"],ascending=False)\n",
        "keyword_df"
      ],
      "metadata": {
        "colab": {
          "base_uri": "https://localhost:8080/",
          "height": 424
        },
        "id": "k-kR3kC3JKQA",
        "outputId": "4d979bbd-cbe1-4ae8-a591-0cbfacb2af5a"
      },
      "execution_count": 31,
      "outputs": [
        {
          "output_type": "execute_result",
          "data": {
            "text/plain": [
              "                   keyword  count\n",
              "0                        0     61\n",
              "105             fatalities     45\n",
              "64                  deluge     42\n",
              "9               armageddon     42\n",
              "178                sinking     41\n",
              "..                     ...    ...\n",
              "116          forest%20fire     19\n",
              "95               epicentre     12\n",
              "195                 threat     11\n",
              "135             inundation     10\n",
              "161  radiation%20emergency      9\n",
              "\n",
              "[222 rows x 2 columns]"
            ],
            "text/html": [
              "\n",
              "  <div id=\"df-f3ba51ab-c4bb-4414-b638-b2cb922db79f\" class=\"colab-df-container\">\n",
              "    <div>\n",
              "<style scoped>\n",
              "    .dataframe tbody tr th:only-of-type {\n",
              "        vertical-align: middle;\n",
              "    }\n",
              "\n",
              "    .dataframe tbody tr th {\n",
              "        vertical-align: top;\n",
              "    }\n",
              "\n",
              "    .dataframe thead th {\n",
              "        text-align: right;\n",
              "    }\n",
              "</style>\n",
              "<table border=\"1\" class=\"dataframe\">\n",
              "  <thead>\n",
              "    <tr style=\"text-align: right;\">\n",
              "      <th></th>\n",
              "      <th>keyword</th>\n",
              "      <th>count</th>\n",
              "    </tr>\n",
              "  </thead>\n",
              "  <tbody>\n",
              "    <tr>\n",
              "      <th>0</th>\n",
              "      <td>0</td>\n",
              "      <td>61</td>\n",
              "    </tr>\n",
              "    <tr>\n",
              "      <th>105</th>\n",
              "      <td>fatalities</td>\n",
              "      <td>45</td>\n",
              "    </tr>\n",
              "    <tr>\n",
              "      <th>64</th>\n",
              "      <td>deluge</td>\n",
              "      <td>42</td>\n",
              "    </tr>\n",
              "    <tr>\n",
              "      <th>9</th>\n",
              "      <td>armageddon</td>\n",
              "      <td>42</td>\n",
              "    </tr>\n",
              "    <tr>\n",
              "      <th>178</th>\n",
              "      <td>sinking</td>\n",
              "      <td>41</td>\n",
              "    </tr>\n",
              "    <tr>\n",
              "      <th>...</th>\n",
              "      <td>...</td>\n",
              "      <td>...</td>\n",
              "    </tr>\n",
              "    <tr>\n",
              "      <th>116</th>\n",
              "      <td>forest%20fire</td>\n",
              "      <td>19</td>\n",
              "    </tr>\n",
              "    <tr>\n",
              "      <th>95</th>\n",
              "      <td>epicentre</td>\n",
              "      <td>12</td>\n",
              "    </tr>\n",
              "    <tr>\n",
              "      <th>195</th>\n",
              "      <td>threat</td>\n",
              "      <td>11</td>\n",
              "    </tr>\n",
              "    <tr>\n",
              "      <th>135</th>\n",
              "      <td>inundation</td>\n",
              "      <td>10</td>\n",
              "    </tr>\n",
              "    <tr>\n",
              "      <th>161</th>\n",
              "      <td>radiation%20emergency</td>\n",
              "      <td>9</td>\n",
              "    </tr>\n",
              "  </tbody>\n",
              "</table>\n",
              "<p>222 rows × 2 columns</p>\n",
              "</div>\n",
              "    <div class=\"colab-df-buttons\">\n",
              "\n",
              "  <div class=\"colab-df-container\">\n",
              "    <button class=\"colab-df-convert\" onclick=\"convertToInteractive('df-f3ba51ab-c4bb-4414-b638-b2cb922db79f')\"\n",
              "            title=\"Convert this dataframe to an interactive table.\"\n",
              "            style=\"display:none;\">\n",
              "\n",
              "  <svg xmlns=\"http://www.w3.org/2000/svg\" height=\"24px\" viewBox=\"0 -960 960 960\">\n",
              "    <path d=\"M120-120v-720h720v720H120Zm60-500h600v-160H180v160Zm220 220h160v-160H400v160Zm0 220h160v-160H400v160ZM180-400h160v-160H180v160Zm440 0h160v-160H620v160ZM180-180h160v-160H180v160Zm440 0h160v-160H620v160Z\"/>\n",
              "  </svg>\n",
              "    </button>\n",
              "\n",
              "  <style>\n",
              "    .colab-df-container {\n",
              "      display:flex;\n",
              "      gap: 12px;\n",
              "    }\n",
              "\n",
              "    .colab-df-convert {\n",
              "      background-color: #E8F0FE;\n",
              "      border: none;\n",
              "      border-radius: 50%;\n",
              "      cursor: pointer;\n",
              "      display: none;\n",
              "      fill: #1967D2;\n",
              "      height: 32px;\n",
              "      padding: 0 0 0 0;\n",
              "      width: 32px;\n",
              "    }\n",
              "\n",
              "    .colab-df-convert:hover {\n",
              "      background-color: #E2EBFA;\n",
              "      box-shadow: 0px 1px 2px rgba(60, 64, 67, 0.3), 0px 1px 3px 1px rgba(60, 64, 67, 0.15);\n",
              "      fill: #174EA6;\n",
              "    }\n",
              "\n",
              "    .colab-df-buttons div {\n",
              "      margin-bottom: 4px;\n",
              "    }\n",
              "\n",
              "    [theme=dark] .colab-df-convert {\n",
              "      background-color: #3B4455;\n",
              "      fill: #D2E3FC;\n",
              "    }\n",
              "\n",
              "    [theme=dark] .colab-df-convert:hover {\n",
              "      background-color: #434B5C;\n",
              "      box-shadow: 0px 1px 3px 1px rgba(0, 0, 0, 0.15);\n",
              "      filter: drop-shadow(0px 1px 2px rgba(0, 0, 0, 0.3));\n",
              "      fill: #FFFFFF;\n",
              "    }\n",
              "  </style>\n",
              "\n",
              "    <script>\n",
              "      const buttonEl =\n",
              "        document.querySelector('#df-f3ba51ab-c4bb-4414-b638-b2cb922db79f button.colab-df-convert');\n",
              "      buttonEl.style.display =\n",
              "        google.colab.kernel.accessAllowed ? 'block' : 'none';\n",
              "\n",
              "      async function convertToInteractive(key) {\n",
              "        const element = document.querySelector('#df-f3ba51ab-c4bb-4414-b638-b2cb922db79f');\n",
              "        const dataTable =\n",
              "          await google.colab.kernel.invokeFunction('convertToInteractive',\n",
              "                                                    [key], {});\n",
              "        if (!dataTable) return;\n",
              "\n",
              "        const docLinkHtml = 'Like what you see? Visit the ' +\n",
              "          '<a target=\"_blank\" href=https://colab.research.google.com/notebooks/data_table.ipynb>data table notebook</a>'\n",
              "          + ' to learn more about interactive tables.';\n",
              "        element.innerHTML = '';\n",
              "        dataTable['output_type'] = 'display_data';\n",
              "        await google.colab.output.renderOutput(dataTable, element);\n",
              "        const docLink = document.createElement('div');\n",
              "        docLink.innerHTML = docLinkHtml;\n",
              "        element.appendChild(docLink);\n",
              "      }\n",
              "    </script>\n",
              "  </div>\n",
              "\n",
              "\n",
              "<div id=\"df-9c7558c8-08bb-4c9c-adbd-85e5b11c0334\">\n",
              "  <button class=\"colab-df-quickchart\" onclick=\"quickchart('df-9c7558c8-08bb-4c9c-adbd-85e5b11c0334')\"\n",
              "            title=\"Suggest charts\"\n",
              "            style=\"display:none;\">\n",
              "\n",
              "<svg xmlns=\"http://www.w3.org/2000/svg\" height=\"24px\"viewBox=\"0 0 24 24\"\n",
              "     width=\"24px\">\n",
              "    <g>\n",
              "        <path d=\"M19 3H5c-1.1 0-2 .9-2 2v14c0 1.1.9 2 2 2h14c1.1 0 2-.9 2-2V5c0-1.1-.9-2-2-2zM9 17H7v-7h2v7zm4 0h-2V7h2v10zm4 0h-2v-4h2v4z\"/>\n",
              "    </g>\n",
              "</svg>\n",
              "  </button>\n",
              "\n",
              "<style>\n",
              "  .colab-df-quickchart {\n",
              "      --bg-color: #E8F0FE;\n",
              "      --fill-color: #1967D2;\n",
              "      --hover-bg-color: #E2EBFA;\n",
              "      --hover-fill-color: #174EA6;\n",
              "      --disabled-fill-color: #AAA;\n",
              "      --disabled-bg-color: #DDD;\n",
              "  }\n",
              "\n",
              "  [theme=dark] .colab-df-quickchart {\n",
              "      --bg-color: #3B4455;\n",
              "      --fill-color: #D2E3FC;\n",
              "      --hover-bg-color: #434B5C;\n",
              "      --hover-fill-color: #FFFFFF;\n",
              "      --disabled-bg-color: #3B4455;\n",
              "      --disabled-fill-color: #666;\n",
              "  }\n",
              "\n",
              "  .colab-df-quickchart {\n",
              "    background-color: var(--bg-color);\n",
              "    border: none;\n",
              "    border-radius: 50%;\n",
              "    cursor: pointer;\n",
              "    display: none;\n",
              "    fill: var(--fill-color);\n",
              "    height: 32px;\n",
              "    padding: 0;\n",
              "    width: 32px;\n",
              "  }\n",
              "\n",
              "  .colab-df-quickchart:hover {\n",
              "    background-color: var(--hover-bg-color);\n",
              "    box-shadow: 0 1px 2px rgba(60, 64, 67, 0.3), 0 1px 3px 1px rgba(60, 64, 67, 0.15);\n",
              "    fill: var(--button-hover-fill-color);\n",
              "  }\n",
              "\n",
              "  .colab-df-quickchart-complete:disabled,\n",
              "  .colab-df-quickchart-complete:disabled:hover {\n",
              "    background-color: var(--disabled-bg-color);\n",
              "    fill: var(--disabled-fill-color);\n",
              "    box-shadow: none;\n",
              "  }\n",
              "\n",
              "  .colab-df-spinner {\n",
              "    border: 2px solid var(--fill-color);\n",
              "    border-color: transparent;\n",
              "    border-bottom-color: var(--fill-color);\n",
              "    animation:\n",
              "      spin 1s steps(1) infinite;\n",
              "  }\n",
              "\n",
              "  @keyframes spin {\n",
              "    0% {\n",
              "      border-color: transparent;\n",
              "      border-bottom-color: var(--fill-color);\n",
              "      border-left-color: var(--fill-color);\n",
              "    }\n",
              "    20% {\n",
              "      border-color: transparent;\n",
              "      border-left-color: var(--fill-color);\n",
              "      border-top-color: var(--fill-color);\n",
              "    }\n",
              "    30% {\n",
              "      border-color: transparent;\n",
              "      border-left-color: var(--fill-color);\n",
              "      border-top-color: var(--fill-color);\n",
              "      border-right-color: var(--fill-color);\n",
              "    }\n",
              "    40% {\n",
              "      border-color: transparent;\n",
              "      border-right-color: var(--fill-color);\n",
              "      border-top-color: var(--fill-color);\n",
              "    }\n",
              "    60% {\n",
              "      border-color: transparent;\n",
              "      border-right-color: var(--fill-color);\n",
              "    }\n",
              "    80% {\n",
              "      border-color: transparent;\n",
              "      border-right-color: var(--fill-color);\n",
              "      border-bottom-color: var(--fill-color);\n",
              "    }\n",
              "    90% {\n",
              "      border-color: transparent;\n",
              "      border-bottom-color: var(--fill-color);\n",
              "    }\n",
              "  }\n",
              "</style>\n",
              "\n",
              "  <script>\n",
              "    async function quickchart(key) {\n",
              "      const quickchartButtonEl =\n",
              "        document.querySelector('#' + key + ' button');\n",
              "      quickchartButtonEl.disabled = true;  // To prevent multiple clicks.\n",
              "      quickchartButtonEl.classList.add('colab-df-spinner');\n",
              "      try {\n",
              "        const charts = await google.colab.kernel.invokeFunction(\n",
              "            'suggestCharts', [key], {});\n",
              "      } catch (error) {\n",
              "        console.error('Error during call to suggestCharts:', error);\n",
              "      }\n",
              "      quickchartButtonEl.classList.remove('colab-df-spinner');\n",
              "      quickchartButtonEl.classList.add('colab-df-quickchart-complete');\n",
              "    }\n",
              "    (() => {\n",
              "      let quickchartButtonEl =\n",
              "        document.querySelector('#df-9c7558c8-08bb-4c9c-adbd-85e5b11c0334 button');\n",
              "      quickchartButtonEl.style.display =\n",
              "        google.colab.kernel.accessAllowed ? 'block' : 'none';\n",
              "    })();\n",
              "  </script>\n",
              "</div>\n",
              "\n",
              "  <div id=\"id_a5a50046-4f60-49e5-be41-5a39bf8d1044\">\n",
              "    <style>\n",
              "      .colab-df-generate {\n",
              "        background-color: #E8F0FE;\n",
              "        border: none;\n",
              "        border-radius: 50%;\n",
              "        cursor: pointer;\n",
              "        display: none;\n",
              "        fill: #1967D2;\n",
              "        height: 32px;\n",
              "        padding: 0 0 0 0;\n",
              "        width: 32px;\n",
              "      }\n",
              "\n",
              "      .colab-df-generate:hover {\n",
              "        background-color: #E2EBFA;\n",
              "        box-shadow: 0px 1px 2px rgba(60, 64, 67, 0.3), 0px 1px 3px 1px rgba(60, 64, 67, 0.15);\n",
              "        fill: #174EA6;\n",
              "      }\n",
              "\n",
              "      [theme=dark] .colab-df-generate {\n",
              "        background-color: #3B4455;\n",
              "        fill: #D2E3FC;\n",
              "      }\n",
              "\n",
              "      [theme=dark] .colab-df-generate:hover {\n",
              "        background-color: #434B5C;\n",
              "        box-shadow: 0px 1px 3px 1px rgba(0, 0, 0, 0.15);\n",
              "        filter: drop-shadow(0px 1px 2px rgba(0, 0, 0, 0.3));\n",
              "        fill: #FFFFFF;\n",
              "      }\n",
              "    </style>\n",
              "    <button class=\"colab-df-generate\" onclick=\"generateWithVariable('keyword_df')\"\n",
              "            title=\"Generate code using this dataframe.\"\n",
              "            style=\"display:none;\">\n",
              "\n",
              "  <svg xmlns=\"http://www.w3.org/2000/svg\" height=\"24px\"viewBox=\"0 0 24 24\"\n",
              "       width=\"24px\">\n",
              "    <path d=\"M7,19H8.4L18.45,9,17,7.55,7,17.6ZM5,21V16.75L18.45,3.32a2,2,0,0,1,2.83,0l1.4,1.43a1.91,1.91,0,0,1,.58,1.4,1.91,1.91,0,0,1-.58,1.4L9.25,21ZM18.45,9,17,7.55Zm-12,3A5.31,5.31,0,0,0,4.9,8.1,5.31,5.31,0,0,0,1,6.5,5.31,5.31,0,0,0,4.9,4.9,5.31,5.31,0,0,0,6.5,1,5.31,5.31,0,0,0,8.1,4.9,5.31,5.31,0,0,0,12,6.5,5.46,5.46,0,0,0,6.5,12Z\"/>\n",
              "  </svg>\n",
              "    </button>\n",
              "    <script>\n",
              "      (() => {\n",
              "      const buttonEl =\n",
              "        document.querySelector('#id_a5a50046-4f60-49e5-be41-5a39bf8d1044 button.colab-df-generate');\n",
              "      buttonEl.style.display =\n",
              "        google.colab.kernel.accessAllowed ? 'block' : 'none';\n",
              "\n",
              "      buttonEl.onclick = () => {\n",
              "        google.colab.notebook.generateWithVariable('keyword_df');\n",
              "      }\n",
              "      })();\n",
              "    </script>\n",
              "  </div>\n",
              "\n",
              "    </div>\n",
              "  </div>\n"
            ]
          },
          "metadata": {},
          "execution_count": 31
        }
      ]
    },
    {
      "cell_type": "code",
      "source": [
        "plt.figure(figsize=(12,5))\n",
        "sns.barplot(data=keyword_df.head(10), x = 'keyword',y = 'count')\n",
        "plt.xticks(rotation = 50)\n",
        "plt.ylabel('count')\n",
        "plt.title('Top 10 keywords');"
      ],
      "metadata": {
        "colab": {
          "base_uri": "https://localhost:8080/",
          "height": 514
        },
        "id": "wp4V_KErJgbx",
        "outputId": "ab24d172-5c75-49cb-9c25-e981030065bc"
      },
      "execution_count": 35,
      "outputs": [
        {
          "output_type": "display_data",
          "data": {
            "text/plain": [
              "<Figure size 1200x500 with 1 Axes>"
            ],
            "image/png": "[encoded data removed]"
          },
          "metadata": {}
        }
      ]
    },
    {
      "cell_type": "markdown",
      "source": [
        "Clean the Data"
      ],
      "metadata": {
        "id": "6LTNCsq5L26H"
      }
    },
    {
      "cell_type": "code",
      "source": [
        "import ssl\n",
        "import nltk\n",
        "from nltk.corpus import stopwords\n",
        "from nltk.tokenize import word_tokenize\n",
        "from nltk.stem import PorterStemmer"
      ],
      "metadata": {
        "id": "xPo0tzAyMF9P"
      },
      "execution_count": 38,
      "outputs": []
    },
    {
      "cell_type": "code",
      "source": [
        "nltk.download('punkt')\n",
        "nltk.download('stopwords')"
      ],
      "metadata": {
        "colab": {
          "base_uri": "https://localhost:8080/"
        },
        "id": "OXu1yeiLL_Vx",
        "outputId": "98a40190-73b5-4709-df58-a0f38450f306"
      },
      "execution_count": 39,
      "outputs": [
        {
          "output_type": "stream",
          "name": "stderr",
          "text": [
            "[nltk_data] Downloading package punkt to /root/nltk_data...\n",
            "[nltk_data]   Unzipping tokenizers/punkt.zip.\n",
            "[nltk_data] Downloading package stopwords to /root/nltk_data...\n",
            "[nltk_data]   Unzipping corpora/stopwords.zip.\n"
          ]
        },
        {
          "output_type": "execute_result",
          "data": {
            "text/plain": [
              "True"
            ]
          },
          "metadata": {},
          "execution_count": 39
        }
      ]
    },
    {
      "cell_type": "code",
      "source": [
        "import certifi\n",
        "import string"
      ],
      "metadata": {
        "id": "y1joIlJ5MYfZ"
      },
      "execution_count": 41,
      "outputs": []
    },
    {
      "cell_type": "code",
      "source": [
        "ssl._create_default_https_context = ssl._create_unverified_context\n",
        "nltk.data.path.append(certifi.where())\n",
        "translator = str.maketrans('', '', string.punctuation)"
      ],
      "metadata": {
        "id": "FtbfTVNgMRQG"
      },
      "execution_count": 42,
      "outputs": []
    },
    {
      "cell_type": "code",
      "source": [
        "train_data.fillna(\"0\",inplace=True)\n",
        "test_data.fillna(\"0\",inplace=True)"
      ],
      "metadata": {
        "id": "EUFntu2WE7n6"
      },
      "execution_count": 22,
      "outputs": []
    },
    {
      "cell_type": "code",
      "source": [
        "def preprocessData(data_train):\n",
        "    stop_words = set(stopwords.words('english'))\n",
        "    words = word_tokenize(data_train)\n",
        "    words = [word for word in words if not word in stop_words]\n",
        "    stemmer= PorterStemmer()\n",
        "    stem_text=' '.join([stemmer.stem(word.translate(translator)) for word in words])\n",
        "    return stem_text"
      ],
      "metadata": {
        "id": "x6OoK4B0MebP"
      },
      "execution_count": 43,
      "outputs": []
    },
    {
      "cell_type": "code",
      "source": [
        "train_data['TextCleaned'] = train_data['text'].apply(preprocessData)"
      ],
      "metadata": {
        "id": "ioZRfXbFMiFI"
      },
      "execution_count": 44,
      "outputs": []
    },
    {
      "cell_type": "code",
      "source": [
        "train_data['TextCleaned']"
      ],
      "metadata": {
        "colab": {
          "base_uri": "https://localhost:8080/"
        },
        "id": "XUOz68heM5-H",
        "outputId": "e33e8a5f-6aa2-4df9-aeed-1feb8f3750b4"
      },
      "execution_count": 45,
      "outputs": [
        {
          "output_type": "execute_result",
          "data": {
            "text/plain": [
              "0          our deed reason  earthquak may allah forgiv us\n",
              "1                   forest fire near la rong sask  canada\n",
              "2       all resid ask shelter place  notifi offic  no ...\n",
              "3       13000 peopl receiv  wildfir evacu order califo...\n",
              "4       just got sent photo rubi  alaska smoke  wildfi...\n",
              "                              ...                        \n",
              "7608    two giant crane hold bridg collaps nearbi home...\n",
              "7609     ariaahrari  thetawniest the control wild fire...\n",
              "7610    m194  0104 utc   5km s volcano hawaii  http  t...\n",
              "7611    polic investig ebik collid car littl portug  e...\n",
              "7612    the latest  more home raze northern california...\n",
              "Name: TextCleaned, Length: 7613, dtype: object"
            ]
          },
          "metadata": {},
          "execution_count": 45
        }
      ]
    },
    {
      "cell_type": "code",
      "source": [
        "from sklearn.feature_extraction.text import TfidfVectorizer\n",
        "from keras.preprocessing.text import Tokenizer\n",
        "from tensorflow.keras.preprocessing.sequence import pad_sequences"
      ],
      "metadata": {
        "id": "_pIuJEETRs_G"
      },
      "execution_count": 51,
      "outputs": []
    },
    {
      "cell_type": "code",
      "source": [
        "vectorizer = TfidfVectorizer(\n",
        "    min_df=2, max_df=0.2,\n",
        "    analyzer='char_wb',\n",
        "    ngram_range=(3,7)\n",
        ")\n",
        "X_tfidf = vectorizer.fit_transform(train_data['TextCleaned']).toarray()\n",
        "\n",
        "tokenizer = Tokenizer()\n",
        "tokenizer.fit_on_texts(train_data['TextCleaned'])\n",
        "train_sequences = tokenizer.texts_to_sequences(train_data['TextCleaned'])\n",
        "\n",
        "max_length = max(len(seq) for seq in train_sequences)\n",
        "train_padded = pad_sequences(train_sequences, maxlen=max_length, padding='post')"
      ],
      "metadata": {
        "id": "S7Nsdz9eRV9H"
      },
      "execution_count": 52,
      "outputs": []
    },
    {
      "cell_type": "markdown",
      "source": [
        "*3. DModel Architecture*"
      ],
      "metadata": {
        "id": "wJEGer24Fiak"
      }
    },
    {
      "cell_type": "markdown",
      "source": [
        "*LSTM v1*"
      ],
      "metadata": {
        "id": "6BGWDRd2SNF2"
      }
    },
    {
      "cell_type": "markdown",
      "source": [
        "We will start with an Embedding Layer, which is responsible for converting tokenized words into dense vectors of a fixed size. Next, we will use an LSTM layer to capture the dependencies in the sequence data, specifically suitable for text processing. To avoid overfitting, we will apply a dropout of 0.2 and recurrent dropout of 0.2 within the LSTM layer.\n",
        "\n",
        "Following the LSTM layer, we will have a Dense Layer with a sigmoid activation function to interpret the features extracted by the LSTM. To further prevent overfitting, we will include a Dropout layer with a value of 1e-5.\n",
        "\n",
        "Finally, for the output layer, since this is a binary classification task (predicting whether a tweet is about a real disaster or not), we will have one neuron with a sigmoid activation function."
      ],
      "metadata": {
        "id": "MpwFioYSSTDt"
      }
    },
    {
      "cell_type": "code",
      "source": [
        "from keras.layers import Embedding, LSTM, Dense, Dropout, Bidirectional, BatchNormalization\n",
        "from keras.regularizers import l2\n",
        "from keras.optimizers import Adam, Adagrad\n",
        "from keras.callbacks import EarlyStopping, ModelCheckpoint"
      ],
      "metadata": {
        "id": "hBoj4fHAS_xN"
      },
      "execution_count": 53,
      "outputs": []
    },
    {
      "cell_type": "code",
      "source": [
        "vocabulary_size = len(tokenizer.word_index) + 1\n",
        "\n",
        "model = Sequential()\n",
        "\n",
        "model.add(Embedding(input_dim=vocabulary_size, output_dim=100, input_length= max_length))\n",
        "\n",
        "model.add(LSTM(units=64, dropout=0.2, recurrent_dropout=0.2))\n",
        "\n",
        "model.add(Dense(units=1, activation='sigmoid'))\n",
        "\n",
        "optimizer = Adam(learning_rate=1e-5)\n",
        "model.compile(optimizer=optimizer, loss='binary_crossentropy', metrics=['accuracy'])\n",
        "\n",
        "early_stopping = EarlyStopping(monitor='val_loss', patience=2)\n",
        "model_checkpoint = ModelCheckpoint('best_model.h5', save_best_only=True, monitor='val_loss')\n",
        "\n",
        "model.summary()"
      ],
      "metadata": {
        "colab": {
          "base_uri": "https://localhost:8080/"
        },
        "id": "liojB7xnSyYX",
        "outputId": "233b6612-3a87-4bd3-a36c-be5ddc725d80"
      },
      "execution_count": 66,
      "outputs": [
        {
          "output_type": "stream",
          "name": "stderr",
          "text": [
            "WARNING:tensorflow:Layer lstm_2 will not use cuDNN kernels since it doesn't meet the criteria. It will use a generic GPU kernel as fallback when running on GPU.\n"
          ]
        },
        {
          "output_type": "stream",
          "name": "stdout",
          "text": [
            "Model: \"sequential_4\"\n",
            "_________________________________________________________________\n",
            " Layer (type)                Output Shape              Param #   \n",
            "=================================================================\n",
            " embedding_2 (Embedding)     (None, 28, 100)           1944700   \n",
            "                                                                 \n",
            " lstm_2 (LSTM)               (None, 64)                42240     \n",
            "                                                                 \n",
            " dense_3 (Dense)             (None, 1)                 65        \n",
            "                                                                 \n",
            "=================================================================\n",
            "Total params: 1987005 (7.58 MB)\n",
            "Trainable params: 1987005 (7.58 MB)\n",
            "Non-trainable params: 0 (0.00 Byte)\n",
            "_________________________________________________________________\n"
          ]
        }
      ]
    },
    {
      "cell_type": "code",
      "source": [
        "train=train_padded[:train_data.shape[0]]\n",
        "test=train_padded[train_data.shape[0]:]\n",
        "\n",
        "X_train,X_test,y_train,y_test=train_test_split(train,train_data['target'].values,test_size=0.15)\n",
        "print('Shape of train',X_train.shape)\n",
        "print(\"Shape of Validation \",X_test.shape)"
      ],
      "metadata": {
        "colab": {
          "base_uri": "https://localhost:8080/"
        },
        "id": "tjs0R82WVPge",
        "outputId": "7d1f3c4b-1ba1-4867-eb8c-ba148945ceff"
      },
      "execution_count": 67,
      "outputs": [
        {
          "output_type": "stream",
          "name": "stdout",
          "text": [
            "Shape of train (6471, 28)\n",
            "Shape of Validation  (1142, 28)\n"
          ]
        }
      ]
    },
    {
      "cell_type": "code",
      "source": [
        "history=model.fit(X_train,y_train,batch_size=16,epochs=10,validation_data=(X_test,y_test),verbose=2)"
      ],
      "metadata": {
        "colab": {
          "base_uri": "https://localhost:8080/"
        },
        "id": "mcEI-XJ5W4Vr",
        "outputId": "9da5456b-3b1c-4f2d-a7ef-6c15945b094d"
      },
      "execution_count": 68,
      "outputs": [
        {
          "output_type": "stream",
          "name": "stdout",
          "text": [
            "Epoch 1/10\n",
            "405/405 - 49s - loss: 0.6955 - accuracy: 0.4656 - val_loss: 0.6915 - val_accuracy: 0.5622 - 49s/epoch - 122ms/step\n",
            "Epoch 2/10\n",
            "405/405 - 37s - loss: 0.6883 - accuracy: 0.5718 - val_loss: 0.6869 - val_accuracy: 0.5622 - 37s/epoch - 91ms/step\n",
            "Epoch 3/10\n",
            "405/405 - 35s - loss: 0.6833 - accuracy: 0.5718 - val_loss: 0.6840 - val_accuracy: 0.5622 - 35s/epoch - 86ms/step\n",
            "Epoch 4/10\n",
            "405/405 - 36s - loss: 0.6801 - accuracy: 0.5718 - val_loss: 0.6823 - val_accuracy: 0.5622 - 36s/epoch - 89ms/step\n",
            "Epoch 5/10\n",
            "405/405 - 48s - loss: 0.6759 - accuracy: 0.5718 - val_loss: 0.6792 - val_accuracy: 0.5622 - 48s/epoch - 118ms/step\n",
            "Epoch 6/10\n",
            "405/405 - 42s - loss: 0.6674 - accuracy: 0.5718 - val_loss: 0.6690 - val_accuracy: 0.5622 - 42s/epoch - 104ms/step\n",
            "Epoch 7/10\n",
            "405/405 - 34s - loss: 0.6390 - accuracy: 0.5792 - val_loss: 0.6358 - val_accuracy: 0.5919 - 34s/epoch - 85ms/step\n",
            "Epoch 8/10\n",
            "405/405 - 52s - loss: 0.5636 - accuracy: 0.7379 - val_loss: 0.5737 - val_accuracy: 0.7522 - 52s/epoch - 127ms/step\n",
            "Epoch 9/10\n",
            "405/405 - 41s - loss: 0.4910 - accuracy: 0.8203 - val_loss: 0.5464 - val_accuracy: 0.7653 - 41s/epoch - 101ms/step\n",
            "Epoch 10/10\n",
            "405/405 - 43s - loss: 0.4475 - accuracy: 0.8317 - val_loss: 0.5309 - val_accuracy: 0.7706 - 43s/epoch - 107ms/step\n"
          ]
        }
      ]
    },
    {
      "cell_type": "markdown",
      "source": [
        "*In the final epoch of training, the model achieved a training loss of 0.4475 and training accuracy of 83.17%. Meanwhile, the validation set had a loss of 0.5309 and accuracy of 77.06%. Each epoch took approximately 43 seconds to complete, and the average time for each training step was 107ms.*"
      ],
      "metadata": {
        "id": "JXVCI081bRLA"
      }
    },
    {
      "cell_type": "markdown",
      "source": [
        "*LSTM v2*"
      ],
      "metadata": {
        "id": "1zHXDDRoY7bK"
      }
    },
    {
      "cell_type": "markdown",
      "source": [
        "*In the final stage of training, the model attained a training loss of 0.4475 and training accuracy of 83.17%, while the validation set recorded a loss of 0.5309 and accuracy of 77.06%. Each epoch took around 43 seconds, with an average training step time of 107ms. To improve the model, a dense layer with 64 units and ReLU activation function was added, along with dropout regularization. Additionally, it was noted that the learning rate in modelv1 was too low, potentially leading to slow convergence or being trapped in a local minimum.*"
      ],
      "metadata": {
        "id": "0W0QlM0AZAnN"
      }
    },
    {
      "cell_type": "code",
      "source": [
        "model2 = Sequential()\n",
        "\n",
        "model2.add(Embedding(input_dim=vocabulary_size, output_dim=100, input_length= max_length))\n",
        "\n",
        "model2.add(LSTM(units=64, dropout=0.1, recurrent_dropout=0.1))\n",
        "\n",
        "model2.add(Dense(units=64, activation='relu'))\n",
        "\n",
        "model2.add(Dropout(0.1))\n",
        "\n",
        "model2.add(Dense(units=1, activation='sigmoid'))\n",
        "\n",
        "optimizer2 = Adam(learning_rate=0.01)\n",
        "model2.compile(optimizer=optimizer2, loss='binary_crossentropy', metrics=['accuracy'])\n",
        "\n",
        "early_stopping = EarlyStopping(monitor='val_loss', patience=2)\n",
        "model_checkpoint = ModelCheckpoint('best_model.h5', save_best_only=True, monitor='val_loss')\n",
        "\n",
        "model2.summary()"
      ],
      "metadata": {
        "colab": {
          "base_uri": "https://localhost:8080/"
        },
        "id": "Lq2I1ojyZSeC",
        "outputId": "d2263227-a33f-4835-c95b-d99448996912"
      },
      "execution_count": 78,
      "outputs": [
        {
          "output_type": "stream",
          "name": "stderr",
          "text": [
            "WARNING:tensorflow:Layer lstm_8 will not use cuDNN kernels since it doesn't meet the criteria. It will use a generic GPU kernel as fallback when running on GPU.\n"
          ]
        },
        {
          "output_type": "stream",
          "name": "stdout",
          "text": [
            "Model: \"sequential_10\"\n",
            "_________________________________________________________________\n",
            " Layer (type)                Output Shape              Param #   \n",
            "=================================================================\n",
            " embedding_8 (Embedding)     (None, 28, 100)           1944700   \n",
            "                                                                 \n",
            " lstm_8 (LSTM)               (None, 64)                42240     \n",
            "                                                                 \n",
            " dense_14 (Dense)            (None, 64)                4160      \n",
            "                                                                 \n",
            " dropout_6 (Dropout)         (None, 64)                0         \n",
            "                                                                 \n",
            " dense_15 (Dense)            (None, 1)                 65        \n",
            "                                                                 \n",
            "=================================================================\n",
            "Total params: 1991165 (7.60 MB)\n",
            "Trainable params: 1991165 (7.60 MB)\n",
            "Non-trainable params: 0 (0.00 Byte)\n",
            "_________________________________________________________________\n"
          ]
        }
      ]
    },
    {
      "cell_type": "code",
      "source": [
        "history2 = model2.fit(X_train,y_train,batch_size=16,epochs=10,validation_data=(X_test,y_test),verbose=2)"
      ],
      "metadata": {
        "colab": {
          "base_uri": "https://localhost:8080/"
        },
        "id": "Ke5Pqfkdaebi",
        "outputId": "3ff139e4-f17f-4a47-eb8b-c88ee164ee44"
      },
      "execution_count": 79,
      "outputs": [
        {
          "output_type": "stream",
          "name": "stdout",
          "text": [
            "Epoch 1/10\n",
            "405/405 - 44s - loss: 0.6871 - accuracy: 0.5673 - val_loss: 0.6773 - val_accuracy: 0.5622 - 44s/epoch - 110ms/step\n",
            "Epoch 2/10\n",
            "405/405 - 37s - loss: 0.6510 - accuracy: 0.6229 - val_loss: 0.5633 - val_accuracy: 0.7250 - 37s/epoch - 91ms/step\n",
            "Epoch 3/10\n",
            "405/405 - 38s - loss: 0.4225 - accuracy: 0.8333 - val_loss: 0.5898 - val_accuracy: 0.7443 - 38s/epoch - 95ms/step\n",
            "Epoch 4/10\n",
            "405/405 - 35s - loss: 0.2623 - accuracy: 0.9105 - val_loss: 0.7159 - val_accuracy: 0.7434 - 35s/epoch - 87ms/step\n",
            "Epoch 5/10\n",
            "405/405 - 35s - loss: 0.1925 - accuracy: 0.9314 - val_loss: 0.8736 - val_accuracy: 0.7093 - 35s/epoch - 86ms/step\n",
            "Epoch 6/10\n",
            "405/405 - 37s - loss: 0.1537 - accuracy: 0.9478 - val_loss: 0.7611 - val_accuracy: 0.7250 - 37s/epoch - 92ms/step\n",
            "Epoch 7/10\n",
            "405/405 - 44s - loss: 0.1215 - accuracy: 0.9577 - val_loss: 1.0341 - val_accuracy: 0.7215 - 44s/epoch - 110ms/step\n",
            "Epoch 8/10\n",
            "405/405 - 36s - loss: 0.1001 - accuracy: 0.9671 - val_loss: 1.2026 - val_accuracy: 0.6865 - 36s/epoch - 89ms/step\n",
            "Epoch 9/10\n",
            "405/405 - 40s - loss: 0.0799 - accuracy: 0.9754 - val_loss: 0.8780 - val_accuracy: 0.7145 - 40s/epoch - 98ms/step\n",
            "Epoch 10/10\n",
            "405/405 - 37s - loss: 0.0732 - accuracy: 0.9750 - val_loss: 1.3345 - val_accuracy: 0.6681 - 37s/epoch - 90ms/step\n"
          ]
        }
      ]
    },
    {
      "cell_type": "markdown",
      "source": [
        "*4. Results and Analysis*"
      ],
      "metadata": {
        "id": "XwzKPQDuFjWz"
      }
    },
    {
      "cell_type": "markdown",
      "source": [
        "*Based on the final epoch of training, the modelv1 achieved a training loss of 0.4475 and training accuracy of 83.17%. For the validation set, it attained a loss of 0.5309 and accuracy of 77.06%. The time taken for each epoch was around 43 seconds, with an average time of 107ms for each training step. The optimizer used a learning rate that may have been too low, causing potential issues with convergence to the optimal solution or getting stuck in a local minimum. Additionally, a dense layer with 64 units and ReLU activation function was added, alongside a dropout. It's essential to further analyze the training results using tables and figures to gain a comprehensive understanding of the model's performance.*"
      ],
      "metadata": {
        "id": "SxNNg3KGXCLB"
      }
    },
    {
      "cell_type": "markdown",
      "source": [
        "*5. Conclusion*"
      ],
      "metadata": {
        "id": "TfsH6SreFlUx"
      }
    },
    {
      "cell_type": "markdown",
      "source": [
        " *In the final epoch of training, the modelv2 achieved a training loss of 0.0732 and training accuracy of 97.50%. Meanwhile, the validation set had a loss of 1.3345 and accuracy of 66.81%. Each epoch took approximately 37 seconds to complete, and the average time for each training step was 90ms. Additionally, a dense layer with 64 units and a ReLU activation function was added to the model, along with a dropout layer to improve performance and prevent overfitting. Furthermore, it was observed that the learning rate in modelv1 was potentially too low, which could have led to a slow convergence to the optimal solution or potential difficulties in escaping from local minima during training.*"
      ],
      "metadata": {
        "id": "TQsQ5bk_eFpw"
      }
    },
    {
      "cell_type": "code",
      "source": [
        "test_data = pd.read_csv('/kaggle/input/nlp-getting-started/test.csv')"
      ],
      "metadata": {
        "id": "Iasansu5iz9P"
      },
      "execution_count": 89,
      "outputs": []
    },
    {
      "cell_type": "code",
      "source": [
        "test_data['TextCleaned'] = test_data['text'].apply(preprocessData)\n",
        "test_sequences = tokenizer.texts_to_sequences(test_data['TextCleaned'])\n",
        "max_length = max(len(seq) for seq in test_sequences)\n",
        "test_padded = pad_sequences(test_sequences, maxlen=max_length, padding='post')\n",
        "test_padded.shape"
      ],
      "metadata": {
        "colab": {
          "base_uri": "https://localhost:8080/"
        },
        "id": "g0ue4l34f75-",
        "outputId": "64389dc3-4dc4-4cc3-d2bd-84d05c15ea98"
      },
      "execution_count": 101,
      "outputs": [
        {
          "output_type": "execute_result",
          "data": {
            "text/plain": [
              "(3263, 26)"
            ]
          },
          "metadata": {},
          "execution_count": 101
        }
      ]
    },
    {
      "cell_type": "code",
      "source": [
        "pre = model2.predict(test_padded)\n",
        "pre = np.round(pre).astype(int).reshape(-1)"
      ],
      "metadata": {
        "colab": {
          "base_uri": "https://localhost:8080/"
        },
        "id": "5ZN6kblQjF8s",
        "outputId": "70d36e8b-fac8-43f8-f435-1bc35e3eb708"
      },
      "execution_count": 102,
      "outputs": [
        {
          "output_type": "stream",
          "name": "stdout",
          "text": [
            "102/102 [==============================] - 1s 9ms/step\n"
          ]
        }
      ]
    },
    {
      "cell_type": "code",
      "source": [
        "sub = pd.read_csv(\"/kaggle/input/nlp-getting-started/sample_submission.csv\")\n",
        "\n",
        "sub = pd.DataFrame({'id': sample_submission['id'], 'target': pre})\n",
        "sub.to_csv(\"submission.csv\", index=False)\n",
        "sub.head()"
      ],
      "metadata": {
        "colab": {
          "base_uri": "https://localhost:8080/",
          "height": 206
        },
        "id": "tA_6-0a5hnX_",
        "outputId": "c4552fb1-7dcd-4f26-99e8-f950b9876dfc"
      },
      "execution_count": 103,
      "outputs": [
        {
          "output_type": "execute_result",
          "data": {
            "text/plain": [
              "   id  target\n",
              "0   0       1\n",
              "1   2       1\n",
              "2   3       1\n",
              "3   9       1\n",
              "4  11       1"
            ],
            "text/html": [
              "\n",
              "  <div id=\"df-7bcf6f4a-26d1-4809-a0ae-d566a8b5ee62\" class=\"colab-df-container\">\n",
              "    <div>\n",
              "<style scoped>\n",
              "    .dataframe tbody tr th:only-of-type {\n",
              "        vertical-align: middle;\n",
              "    }\n",
              "\n",
              "    .dataframe tbody tr th {\n",
              "        vertical-align: top;\n",
              "    }\n",
              "\n",
              "    .dataframe thead th {\n",
              "        text-align: right;\n",
              "    }\n",
              "</style>\n",
              "<table border=\"1\" class=\"dataframe\">\n",
              "  <thead>\n",
              "    <tr style=\"text-align: right;\">\n",
              "      <th></th>\n",
              "      <th>id</th>\n",
              "      <th>target</th>\n",
              "    </tr>\n",
              "  </thead>\n",
              "  <tbody>\n",
              "    <tr>\n",
              "      <th>0</th>\n",
              "      <td>0</td>\n",
              "      <td>1</td>\n",
              "    </tr>\n",
              "    <tr>\n",
              "      <th>1</th>\n",
              "      <td>2</td>\n",
              "      <td>1</td>\n",
              "    </tr>\n",
              "    <tr>\n",
              "      <th>2</th>\n",
              "      <td>3</td>\n",
              "      <td>1</td>\n",
              "    </tr>\n",
              "    <tr>\n",
              "      <th>3</th>\n",
              "      <td>9</td>\n",
              "      <td>1</td>\n",
              "    </tr>\n",
              "    <tr>\n",
              "      <th>4</th>\n",
              "      <td>11</td>\n",
              "      <td>1</td>\n",
              "    </tr>\n",
              "  </tbody>\n",
              "</table>\n",
              "</div>\n",
              "    <div class=\"colab-df-buttons\">\n",
              "\n",
              "  <div class=\"colab-df-container\">\n",
              "    <button class=\"colab-df-convert\" onclick=\"convertToInteractive('df-7bcf6f4a-26d1-4809-a0ae-d566a8b5ee62')\"\n",
              "            title=\"Convert this dataframe to an interactive table.\"\n",
              "            style=\"display:none;\">\n",
              "\n",
              "  <svg xmlns=\"http://www.w3.org/2000/svg\" height=\"24px\" viewBox=\"0 -960 960 960\">\n",
              "    <path d=\"M120-120v-720h720v720H120Zm60-500h600v-160H180v160Zm220 220h160v-160H400v160Zm0 220h160v-160H400v160ZM180-400h160v-160H180v160Zm440 0h160v-160H620v160ZM180-180h160v-160H180v160Zm440 0h160v-160H620v160Z\"/>\n",
              "  </svg>\n",
              "    </button>\n",
              "\n",
              "  <style>\n",
              "    .colab-df-container {\n",
              "      display:flex;\n",
              "      gap: 12px;\n",
              "    }\n",
              "\n",
              "    .colab-df-convert {\n",
              "      background-color: #E8F0FE;\n",
              "      border: none;\n",
              "      border-radius: 50%;\n",
              "      cursor: pointer;\n",
              "      display: none;\n",
              "      fill: #1967D2;\n",
              "      height: 32px;\n",
              "      padding: 0 0 0 0;\n",
              "      width: 32px;\n",
              "    }\n",
              "\n",
              "    .colab-df-convert:hover {\n",
              "      background-color: #E2EBFA;\n",
              "      box-shadow: 0px 1px 2px rgba(60, 64, 67, 0.3), 0px 1px 3px 1px rgba(60, 64, 67, 0.15);\n",
              "      fill: #174EA6;\n",
              "    }\n",
              "\n",
              "    .colab-df-buttons div {\n",
              "      margin-bottom: 4px;\n",
              "    }\n",
              "\n",
              "    [theme=dark] .colab-df-convert {\n",
              "      background-color: #3B4455;\n",
              "      fill: #D2E3FC;\n",
              "    }\n",
              "\n",
              "    [theme=dark] .colab-df-convert:hover {\n",
              "      background-color: #434B5C;\n",
              "      box-shadow: 0px 1px 3px 1px rgba(0, 0, 0, 0.15);\n",
              "      filter: drop-shadow(0px 1px 2px rgba(0, 0, 0, 0.3));\n",
              "      fill: #FFFFFF;\n",
              "    }\n",
              "  </style>\n",
              "\n",
              "    <script>\n",
              "      const buttonEl =\n",
              "        document.querySelector('#df-7bcf6f4a-26d1-4809-a0ae-d566a8b5ee62 button.colab-df-convert');\n",
              "      buttonEl.style.display =\n",
              "        google.colab.kernel.accessAllowed ? 'block' : 'none';\n",
              "\n",
              "      async function convertToInteractive(key) {\n",
              "        const element = document.querySelector('#df-7bcf6f4a-26d1-4809-a0ae-d566a8b5ee62');\n",
              "        const dataTable =\n",
              "          await google.colab.kernel.invokeFunction('convertToInteractive',\n",
              "                                                    [key], {});\n",
              "        if (!dataTable) return;\n",
              "\n",
              "        const docLinkHtml = 'Like what you see? Visit the ' +\n",
              "          '<a target=\"_blank\" href=https://colab.research.google.com/notebooks/data_table.ipynb>data table notebook</a>'\n",
              "          + ' to learn more about interactive tables.';\n",
              "        element.innerHTML = '';\n",
              "        dataTable['output_type'] = 'display_data';\n",
              "        await google.colab.output.renderOutput(dataTable, element);\n",
              "        const docLink = document.createElement('div');\n",
              "        docLink.innerHTML = docLinkHtml;\n",
              "        element.appendChild(docLink);\n",
              "      }\n",
              "    </script>\n",
              "  </div>\n",
              "\n",
              "\n",
              "<div id=\"df-a45fe384-2946-4a89-91f6-c81eee0f82bd\">\n",
              "  <button class=\"colab-df-quickchart\" onclick=\"quickchart('df-a45fe384-2946-4a89-91f6-c81eee0f82bd')\"\n",
              "            title=\"Suggest charts\"\n",
              "            style=\"display:none;\">\n",
              "\n",
              "<svg xmlns=\"http://www.w3.org/2000/svg\" height=\"24px\"viewBox=\"0 0 24 24\"\n",
              "     width=\"24px\">\n",
              "    <g>\n",
              "        <path d=\"M19 3H5c-1.1 0-2 .9-2 2v14c0 1.1.9 2 2 2h14c1.1 0 2-.9 2-2V5c0-1.1-.9-2-2-2zM9 17H7v-7h2v7zm4 0h-2V7h2v10zm4 0h-2v-4h2v4z\"/>\n",
              "    </g>\n",
              "</svg>\n",
              "  </button>\n",
              "\n",
              "<style>\n",
              "  .colab-df-quickchart {\n",
              "      --bg-color: #E8F0FE;\n",
              "      --fill-color: #1967D2;\n",
              "      --hover-bg-color: #E2EBFA;\n",
              "      --hover-fill-color: #174EA6;\n",
              "      --disabled-fill-color: #AAA;\n",
              "      --disabled-bg-color: #DDD;\n",
              "  }\n",
              "\n",
              "  [theme=dark] .colab-df-quickchart {\n",
              "      --bg-color: #3B4455;\n",
              "      --fill-color: #D2E3FC;\n",
              "      --hover-bg-color: #434B5C;\n",
              "      --hover-fill-color: #FFFFFF;\n",
              "      --disabled-bg-color: #3B4455;\n",
              "      --disabled-fill-color: #666;\n",
              "  }\n",
              "\n",
              "  .colab-df-quickchart {\n",
              "    background-color: var(--bg-color);\n",
              "    border: none;\n",
              "    border-radius: 50%;\n",
              "    cursor: pointer;\n",
              "    display: none;\n",
              "    fill: var(--fill-color);\n",
              "    height: 32px;\n",
              "    padding: 0;\n",
              "    width: 32px;\n",
              "  }\n",
              "\n",
              "  .colab-df-quickchart:hover {\n",
              "    background-color: var(--hover-bg-color);\n",
              "    box-shadow: 0 1px 2px rgba(60, 64, 67, 0.3), 0 1px 3px 1px rgba(60, 64, 67, 0.15);\n",
              "    fill: var(--button-hover-fill-color);\n",
              "  }\n",
              "\n",
              "  .colab-df-quickchart-complete:disabled,\n",
              "  .colab-df-quickchart-complete:disabled:hover {\n",
              "    background-color: var(--disabled-bg-color);\n",
              "    fill: var(--disabled-fill-color);\n",
              "    box-shadow: none;\n",
              "  }\n",
              "\n",
              "  .colab-df-spinner {\n",
              "    border: 2px solid var(--fill-color);\n",
              "    border-color: transparent;\n",
              "    border-bottom-color: var(--fill-color);\n",
              "    animation:\n",
              "      spin 1s steps(1) infinite;\n",
              "  }\n",
              "\n",
              "  @keyframes spin {\n",
              "    0% {\n",
              "      border-color: transparent;\n",
              "      border-bottom-color: var(--fill-color);\n",
              "      border-left-color: var(--fill-color);\n",
              "    }\n",
              "    20% {\n",
              "      border-color: transparent;\n",
              "      border-left-color: var(--fill-color);\n",
              "      border-top-color: var(--fill-color);\n",
              "    }\n",
              "    30% {\n",
              "      border-color: transparent;\n",
              "      border-left-color: var(--fill-color);\n",
              "      border-top-color: var(--fill-color);\n",
              "      border-right-color: var(--fill-color);\n",
              "    }\n",
              "    40% {\n",
              "      border-color: transparent;\n",
              "      border-right-color: var(--fill-color);\n",
              "      border-top-color: var(--fill-color);\n",
              "    }\n",
              "    60% {\n",
              "      border-color: transparent;\n",
              "      border-right-color: var(--fill-color);\n",
              "    }\n",
              "    80% {\n",
              "      border-color: transparent;\n",
              "      border-right-color: var(--fill-color);\n",
              "      border-bottom-color: var(--fill-color);\n",
              "    }\n",
              "    90% {\n",
              "      border-color: transparent;\n",
              "      border-bottom-color: var(--fill-color);\n",
              "    }\n",
              "  }\n",
              "</style>\n",
              "\n",
              "  <script>\n",
              "    async function quickchart(key) {\n",
              "      const quickchartButtonEl =\n",
              "        document.querySelector('#' + key + ' button');\n",
              "      quickchartButtonEl.disabled = true;  // To prevent multiple clicks.\n",
              "      quickchartButtonEl.classList.add('colab-df-spinner');\n",
              "      try {\n",
              "        const charts = await google.colab.kernel.invokeFunction(\n",
              "            'suggestCharts', [key], {});\n",
              "      } catch (error) {\n",
              "        console.error('Error during call to suggestCharts:', error);\n",
              "      }\n",
              "      quickchartButtonEl.classList.remove('colab-df-spinner');\n",
              "      quickchartButtonEl.classList.add('colab-df-quickchart-complete');\n",
              "    }\n",
              "    (() => {\n",
              "      let quickchartButtonEl =\n",
              "        document.querySelector('#df-a45fe384-2946-4a89-91f6-c81eee0f82bd button');\n",
              "      quickchartButtonEl.style.display =\n",
              "        google.colab.kernel.accessAllowed ? 'block' : 'none';\n",
              "    })();\n",
              "  </script>\n",
              "</div>\n",
              "\n",
              "    </div>\n",
              "  </div>\n"
            ]
          },
          "metadata": {},
          "execution_count": 103
        }
      ]
    },
    {
      "cell_type": "code",
      "source": [
        "!pwd"
      ],
      "metadata": {
        "colab": {
          "base_uri": "https://localhost:8080/"
        },
        "id": "hxwewko2keat",
        "outputId": "15e5904e-976f-4bf2-80ed-9d5ab92c2701"
      },
      "execution_count": 104,
      "outputs": [
        {
          "output_type": "stream",
          "name": "stdout",
          "text": [
            "/content\n"
          ]
        }
      ]
    },
    {
      "cell_type": "markdown",
      "source": [
        "**NLP Disaster Tweets![1.png](data:image/png;base64,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)**"
      ],
      "metadata": {
        "id": "N9HGJ_ghDOU8"
      }
    },
    {
      "cell_type": "markdown",
      "source": [
        "*It appears that the model may be overfitting, as indicated by a public score of 0.709. This is likely due to the difference in performance between training and validation sets. Additional measures may be needed to address overfitting and improve generalization of the model.*"
      ],
      "metadata": {
        "id": "mXhzdkmIlF_c"
      }
    }
  ],
  "metadata": {
    "kernelspec": {
      "display_name": "Python 3",
      "name": "python3"
    },
    "language_info": {
      "pygments_lexer": "ipython3",
      "nbconvert_exporter": "python",
      "version": "3.6.4",
      "file_extension": ".py",
      "codemirror_mode": {
        "name": "ipython",
        "version": 3
      },
      "name": "python",
      "mimetype": "text/x-python"
    },
    "colab": {
      "name": "notebookaa4ed39c08",
      "provenance": [],
      "gpuType": "T4",
      "include_colab_link": true
    },
    "accelerator": "GPU"
  },
  "nbformat": 4,
  "nbformat_minor": 0
}